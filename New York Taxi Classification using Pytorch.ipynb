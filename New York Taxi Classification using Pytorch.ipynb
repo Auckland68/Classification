{
 "cells": [
  {
   "cell_type": "code",
   "execution_count": 110,
   "id": "45129b76",
   "metadata": {},
   "outputs": [],
   "source": [
    "import torch\n",
    "import torch.nn as nn\n",
    "import numpy as np\n",
    "import pandas as pd\n",
    "import matplotlib.pyplot as plt\n",
    "import seaborn as sns\n",
    "sns.set(style=\"darkgrid\")\n",
    "import geopy.distance"
   ]
  },
  {
   "cell_type": "markdown",
   "id": "81284e0d",
   "metadata": {},
   "source": [
    "This notebook uses data relating to taxi fares in New York to build a regression model to predict the fare class based on distance travelled, fare amount and other features. The model uses Pytorch and is based on the course by Jose Portilla on Udemy. The original dataset has 55 million rows but this model uses just 120,000 rows.\n",
    "\n",
    "Note there is also a notebook under the regression repository that builds a model to predict the fare amount rather than the fare class.\n",
    "\n",
    "https://www.kaggle.com/c/new-york-city-taxi-fare-prediction"
   ]
  },
  {
   "cell_type": "code",
   "execution_count": 111,
   "id": "0ecf0ad5",
   "metadata": {},
   "outputs": [],
   "source": [
    "df = pd.read_csv('C:/Users/imoge/Projects/Datasets/NYCTaxiFares.csv')"
   ]
  },
  {
   "cell_type": "code",
   "execution_count": 112,
   "id": "26b17c14",
   "metadata": {},
   "outputs": [
    {
     "data": {
      "text/plain": [
       "(120000, 8)"
      ]
     },
     "execution_count": 112,
     "metadata": {},
     "output_type": "execute_result"
    }
   ],
   "source": [
    "df.shape"
   ]
  },
  {
   "cell_type": "code",
   "execution_count": 113,
   "id": "49cfbdb1",
   "metadata": {},
   "outputs": [
    {
     "name": "stdout",
     "output_type": "stream",
     "text": [
      "<class 'pandas.core.frame.DataFrame'>\n",
      "RangeIndex: 120000 entries, 0 to 119999\n",
      "Data columns (total 8 columns):\n",
      " #   Column             Non-Null Count   Dtype  \n",
      "---  ------             --------------   -----  \n",
      " 0   pickup_datetime    120000 non-null  object \n",
      " 1   fare_amount        120000 non-null  float64\n",
      " 2   fare_class         120000 non-null  int64  \n",
      " 3   pickup_longitude   120000 non-null  float64\n",
      " 4   pickup_latitude    120000 non-null  float64\n",
      " 5   dropoff_longitude  120000 non-null  float64\n",
      " 6   dropoff_latitude   120000 non-null  float64\n",
      " 7   passenger_count    120000 non-null  int64  \n",
      "dtypes: float64(5), int64(2), object(1)\n",
      "memory usage: 7.3+ MB\n"
     ]
    }
   ],
   "source": [
    "df.info()"
   ]
  },
  {
   "cell_type": "code",
   "execution_count": 114,
   "id": "55958d22",
   "metadata": {},
   "outputs": [
    {
     "data": {
      "text/html": [
       "<div>\n",
       "<style scoped>\n",
       "    .dataframe tbody tr th:only-of-type {\n",
       "        vertical-align: middle;\n",
       "    }\n",
       "\n",
       "    .dataframe tbody tr th {\n",
       "        vertical-align: top;\n",
       "    }\n",
       "\n",
       "    .dataframe thead th {\n",
       "        text-align: right;\n",
       "    }\n",
       "</style>\n",
       "<table border=\"1\" class=\"dataframe\">\n",
       "  <thead>\n",
       "    <tr style=\"text-align: right;\">\n",
       "      <th></th>\n",
       "      <th>pickup_datetime</th>\n",
       "      <th>fare_amount</th>\n",
       "      <th>fare_class</th>\n",
       "      <th>pickup_longitude</th>\n",
       "      <th>pickup_latitude</th>\n",
       "      <th>dropoff_longitude</th>\n",
       "      <th>dropoff_latitude</th>\n",
       "      <th>passenger_count</th>\n",
       "    </tr>\n",
       "  </thead>\n",
       "  <tbody>\n",
       "    <tr>\n",
       "      <th>0</th>\n",
       "      <td>2010-04-19 08:17:56 UTC</td>\n",
       "      <td>6.5</td>\n",
       "      <td>0</td>\n",
       "      <td>-73.992365</td>\n",
       "      <td>40.730521</td>\n",
       "      <td>-73.975499</td>\n",
       "      <td>40.744746</td>\n",
       "      <td>1</td>\n",
       "    </tr>\n",
       "    <tr>\n",
       "      <th>1</th>\n",
       "      <td>2010-04-17 15:43:53 UTC</td>\n",
       "      <td>6.9</td>\n",
       "      <td>0</td>\n",
       "      <td>-73.990078</td>\n",
       "      <td>40.740558</td>\n",
       "      <td>-73.974232</td>\n",
       "      <td>40.744114</td>\n",
       "      <td>1</td>\n",
       "    </tr>\n",
       "    <tr>\n",
       "      <th>2</th>\n",
       "      <td>2010-04-17 11:23:26 UTC</td>\n",
       "      <td>10.1</td>\n",
       "      <td>1</td>\n",
       "      <td>-73.994149</td>\n",
       "      <td>40.751118</td>\n",
       "      <td>-73.960064</td>\n",
       "      <td>40.766235</td>\n",
       "      <td>2</td>\n",
       "    </tr>\n",
       "    <tr>\n",
       "      <th>3</th>\n",
       "      <td>2010-04-11 21:25:03 UTC</td>\n",
       "      <td>8.9</td>\n",
       "      <td>0</td>\n",
       "      <td>-73.990485</td>\n",
       "      <td>40.756422</td>\n",
       "      <td>-73.971205</td>\n",
       "      <td>40.748192</td>\n",
       "      <td>1</td>\n",
       "    </tr>\n",
       "    <tr>\n",
       "      <th>4</th>\n",
       "      <td>2010-04-17 02:19:01 UTC</td>\n",
       "      <td>19.7</td>\n",
       "      <td>1</td>\n",
       "      <td>-73.990976</td>\n",
       "      <td>40.734202</td>\n",
       "      <td>-73.905956</td>\n",
       "      <td>40.743115</td>\n",
       "      <td>1</td>\n",
       "    </tr>\n",
       "  </tbody>\n",
       "</table>\n",
       "</div>"
      ],
      "text/plain": [
       "           pickup_datetime  fare_amount  fare_class  pickup_longitude  \\\n",
       "0  2010-04-19 08:17:56 UTC          6.5           0        -73.992365   \n",
       "1  2010-04-17 15:43:53 UTC          6.9           0        -73.990078   \n",
       "2  2010-04-17 11:23:26 UTC         10.1           1        -73.994149   \n",
       "3  2010-04-11 21:25:03 UTC          8.9           0        -73.990485   \n",
       "4  2010-04-17 02:19:01 UTC         19.7           1        -73.990976   \n",
       "\n",
       "   pickup_latitude  dropoff_longitude  dropoff_latitude  passenger_count  \n",
       "0        40.730521         -73.975499         40.744746                1  \n",
       "1        40.740558         -73.974232         40.744114                1  \n",
       "2        40.751118         -73.960064         40.766235                2  \n",
       "3        40.756422         -73.971205         40.748192                1  \n",
       "4        40.734202         -73.905956         40.743115                1  "
      ]
     },
     "execution_count": 114,
     "metadata": {},
     "output_type": "execute_result"
    }
   ],
   "source": [
    "df.head()"
   ]
  },
  {
   "cell_type": "code",
   "execution_count": 115,
   "id": "3f938805",
   "metadata": {},
   "outputs": [
    {
     "data": {
      "text/html": [
       "<div>\n",
       "<style scoped>\n",
       "    .dataframe tbody tr th:only-of-type {\n",
       "        vertical-align: middle;\n",
       "    }\n",
       "\n",
       "    .dataframe tbody tr th {\n",
       "        vertical-align: top;\n",
       "    }\n",
       "\n",
       "    .dataframe thead th {\n",
       "        text-align: right;\n",
       "    }\n",
       "</style>\n",
       "<table border=\"1\" class=\"dataframe\">\n",
       "  <thead>\n",
       "    <tr style=\"text-align: right;\">\n",
       "      <th></th>\n",
       "      <th>fare_amount</th>\n",
       "      <th>fare_class</th>\n",
       "      <th>pickup_longitude</th>\n",
       "      <th>pickup_latitude</th>\n",
       "      <th>dropoff_longitude</th>\n",
       "      <th>dropoff_latitude</th>\n",
       "      <th>passenger_count</th>\n",
       "    </tr>\n",
       "  </thead>\n",
       "  <tbody>\n",
       "    <tr>\n",
       "      <th>count</th>\n",
       "      <td>120000.000000</td>\n",
       "      <td>120000.000000</td>\n",
       "      <td>120000.000000</td>\n",
       "      <td>120000.000000</td>\n",
       "      <td>120000.000000</td>\n",
       "      <td>120000.000000</td>\n",
       "      <td>120000.000000</td>\n",
       "    </tr>\n",
       "    <tr>\n",
       "      <th>mean</th>\n",
       "      <td>10.040326</td>\n",
       "      <td>0.333333</td>\n",
       "      <td>-73.976626</td>\n",
       "      <td>40.751443</td>\n",
       "      <td>-73.974501</td>\n",
       "      <td>40.751695</td>\n",
       "      <td>1.347167</td>\n",
       "    </tr>\n",
       "    <tr>\n",
       "      <th>std</th>\n",
       "      <td>7.500134</td>\n",
       "      <td>0.471406</td>\n",
       "      <td>0.031497</td>\n",
       "      <td>0.025821</td>\n",
       "      <td>0.032419</td>\n",
       "      <td>0.030279</td>\n",
       "      <td>0.759263</td>\n",
       "    </tr>\n",
       "    <tr>\n",
       "      <th>min</th>\n",
       "      <td>2.500000</td>\n",
       "      <td>0.000000</td>\n",
       "      <td>-74.465447</td>\n",
       "      <td>40.121653</td>\n",
       "      <td>-74.443323</td>\n",
       "      <td>40.164927</td>\n",
       "      <td>1.000000</td>\n",
       "    </tr>\n",
       "    <tr>\n",
       "      <th>25%</th>\n",
       "      <td>5.700000</td>\n",
       "      <td>0.000000</td>\n",
       "      <td>-73.992386</td>\n",
       "      <td>40.736594</td>\n",
       "      <td>-73.991478</td>\n",
       "      <td>40.735914</td>\n",
       "      <td>1.000000</td>\n",
       "    </tr>\n",
       "    <tr>\n",
       "      <th>50%</th>\n",
       "      <td>7.700000</td>\n",
       "      <td>0.000000</td>\n",
       "      <td>-73.982084</td>\n",
       "      <td>40.753661</td>\n",
       "      <td>-73.980411</td>\n",
       "      <td>40.754441</td>\n",
       "      <td>1.000000</td>\n",
       "    </tr>\n",
       "    <tr>\n",
       "      <th>75%</th>\n",
       "      <td>11.300000</td>\n",
       "      <td>1.000000</td>\n",
       "      <td>-73.968710</td>\n",
       "      <td>40.768020</td>\n",
       "      <td>-73.965500</td>\n",
       "      <td>40.768880</td>\n",
       "      <td>1.000000</td>\n",
       "    </tr>\n",
       "    <tr>\n",
       "      <th>max</th>\n",
       "      <td>49.900000</td>\n",
       "      <td>1.000000</td>\n",
       "      <td>-73.311845</td>\n",
       "      <td>40.981292</td>\n",
       "      <td>-73.496140</td>\n",
       "      <td>40.993498</td>\n",
       "      <td>5.000000</td>\n",
       "    </tr>\n",
       "  </tbody>\n",
       "</table>\n",
       "</div>"
      ],
      "text/plain": [
       "         fare_amount     fare_class  pickup_longitude  pickup_latitude  \\\n",
       "count  120000.000000  120000.000000     120000.000000    120000.000000   \n",
       "mean       10.040326       0.333333        -73.976626        40.751443   \n",
       "std         7.500134       0.471406          0.031497         0.025821   \n",
       "min         2.500000       0.000000        -74.465447        40.121653   \n",
       "25%         5.700000       0.000000        -73.992386        40.736594   \n",
       "50%         7.700000       0.000000        -73.982084        40.753661   \n",
       "75%        11.300000       1.000000        -73.968710        40.768020   \n",
       "max        49.900000       1.000000        -73.311845        40.981292   \n",
       "\n",
       "       dropoff_longitude  dropoff_latitude  passenger_count  \n",
       "count      120000.000000     120000.000000    120000.000000  \n",
       "mean          -73.974501         40.751695         1.347167  \n",
       "std             0.032419          0.030279         0.759263  \n",
       "min           -74.443323         40.164927         1.000000  \n",
       "25%           -73.991478         40.735914         1.000000  \n",
       "50%           -73.980411         40.754441         1.000000  \n",
       "75%           -73.965500         40.768880         1.000000  \n",
       "max           -73.496140         40.993498         5.000000  "
      ]
     },
     "execution_count": 115,
     "metadata": {},
     "output_type": "execute_result"
    }
   ],
   "source": [
    "df.describe()"
   ]
  },
  {
   "cell_type": "markdown",
   "id": "daa006c8",
   "metadata": {},
   "source": [
    "The max fare is almost 50 dollars, the minimum 2.5 dollars and the mean around 10 dollars"
   ]
  },
  {
   "cell_type": "markdown",
   "id": "0339048b",
   "metadata": {},
   "source": [
    "### Longitude and Latitude to get distance measure"
   ]
  },
  {
   "cell_type": "markdown",
   "id": "4206863c",
   "metadata": {},
   "source": [
    "Need to use feature engineering to convert the longitude and latitude data to get useful information out of the data and feed into the neural network. "
   ]
  },
  {
   "cell_type": "code",
   "execution_count": 116,
   "id": "e8786d9a",
   "metadata": {},
   "outputs": [],
   "source": [
    "# Function to calculate distance and apply to the dropoff and pickup latitudes and longitudes (uses the Haversine formula\n",
    "# based on the earth being assumed to be a sphere)\n",
    "def distancer(row):\n",
    "    coords_1 = (row['pickup_longitude'], row['pickup_latitude'])\n",
    "    coords_2 = (row['dropoff_longitude'], row['dropoff_latitude'])\n",
    "    return geopy.distance.geodesic(coords_1, coords_2).km\n",
    "\n",
    "df['distance'] = df.apply(distancer, axis=1)"
   ]
  },
  {
   "cell_type": "code",
   "execution_count": 117,
   "id": "cc38db55",
   "metadata": {},
   "outputs": [
    {
     "data": {
      "text/html": [
       "<div>\n",
       "<style scoped>\n",
       "    .dataframe tbody tr th:only-of-type {\n",
       "        vertical-align: middle;\n",
       "    }\n",
       "\n",
       "    .dataframe tbody tr th {\n",
       "        vertical-align: top;\n",
       "    }\n",
       "\n",
       "    .dataframe thead th {\n",
       "        text-align: right;\n",
       "    }\n",
       "</style>\n",
       "<table border=\"1\" class=\"dataframe\">\n",
       "  <thead>\n",
       "    <tr style=\"text-align: right;\">\n",
       "      <th></th>\n",
       "      <th>pickup_datetime</th>\n",
       "      <th>fare_amount</th>\n",
       "      <th>fare_class</th>\n",
       "      <th>pickup_longitude</th>\n",
       "      <th>pickup_latitude</th>\n",
       "      <th>dropoff_longitude</th>\n",
       "      <th>dropoff_latitude</th>\n",
       "      <th>passenger_count</th>\n",
       "      <th>distance</th>\n",
       "    </tr>\n",
       "  </thead>\n",
       "  <tbody>\n",
       "    <tr>\n",
       "      <th>0</th>\n",
       "      <td>2010-04-19 08:17:56 UTC</td>\n",
       "      <td>6.5</td>\n",
       "      <td>0</td>\n",
       "      <td>-73.992365</td>\n",
       "      <td>40.730521</td>\n",
       "      <td>-73.975499</td>\n",
       "      <td>40.744746</td>\n",
       "      <td>1</td>\n",
       "      <td>1.932727</td>\n",
       "    </tr>\n",
       "    <tr>\n",
       "      <th>1</th>\n",
       "      <td>2010-04-17 15:43:53 UTC</td>\n",
       "      <td>6.9</td>\n",
       "      <td>0</td>\n",
       "      <td>-73.990078</td>\n",
       "      <td>40.740558</td>\n",
       "      <td>-73.974232</td>\n",
       "      <td>40.744114</td>\n",
       "      <td>1</td>\n",
       "      <td>1.771932</td>\n",
       "    </tr>\n",
       "    <tr>\n",
       "      <th>2</th>\n",
       "      <td>2010-04-17 11:23:26 UTC</td>\n",
       "      <td>10.1</td>\n",
       "      <td>1</td>\n",
       "      <td>-73.994149</td>\n",
       "      <td>40.751118</td>\n",
       "      <td>-73.960064</td>\n",
       "      <td>40.766235</td>\n",
       "      <td>2</td>\n",
       "      <td>3.832587</td>\n",
       "    </tr>\n",
       "    <tr>\n",
       "      <th>3</th>\n",
       "      <td>2010-04-11 21:25:03 UTC</td>\n",
       "      <td>8.9</td>\n",
       "      <td>0</td>\n",
       "      <td>-73.990485</td>\n",
       "      <td>40.756422</td>\n",
       "      <td>-73.971205</td>\n",
       "      <td>40.748192</td>\n",
       "      <td>1</td>\n",
       "      <td>2.166696</td>\n",
       "    </tr>\n",
       "    <tr>\n",
       "      <th>4</th>\n",
       "      <td>2010-04-17 02:19:01 UTC</td>\n",
       "      <td>19.7</td>\n",
       "      <td>1</td>\n",
       "      <td>-73.990976</td>\n",
       "      <td>40.734202</td>\n",
       "      <td>-73.905956</td>\n",
       "      <td>40.743115</td>\n",
       "      <td>1</td>\n",
       "      <td>9.492877</td>\n",
       "    </tr>\n",
       "  </tbody>\n",
       "</table>\n",
       "</div>"
      ],
      "text/plain": [
       "           pickup_datetime  fare_amount  fare_class  pickup_longitude  \\\n",
       "0  2010-04-19 08:17:56 UTC          6.5           0        -73.992365   \n",
       "1  2010-04-17 15:43:53 UTC          6.9           0        -73.990078   \n",
       "2  2010-04-17 11:23:26 UTC         10.1           1        -73.994149   \n",
       "3  2010-04-11 21:25:03 UTC          8.9           0        -73.990485   \n",
       "4  2010-04-17 02:19:01 UTC         19.7           1        -73.990976   \n",
       "\n",
       "   pickup_latitude  dropoff_longitude  dropoff_latitude  passenger_count  \\\n",
       "0        40.730521         -73.975499         40.744746                1   \n",
       "1        40.740558         -73.974232         40.744114                1   \n",
       "2        40.751118         -73.960064         40.766235                2   \n",
       "3        40.756422         -73.971205         40.748192                1   \n",
       "4        40.734202         -73.905956         40.743115                1   \n",
       "\n",
       "   distance  \n",
       "0  1.932727  \n",
       "1  1.771932  \n",
       "2  3.832587  \n",
       "3  2.166696  \n",
       "4  9.492877  "
      ]
     },
     "execution_count": 117,
     "metadata": {},
     "output_type": "execute_result"
    }
   ],
   "source": [
    "df.head()"
   ]
  },
  {
   "cell_type": "code",
   "execution_count": 118,
   "id": "355f8d5e",
   "metadata": {},
   "outputs": [
    {
     "data": {
      "text/plain": [
       "count    120000.000000\n",
       "mean          2.652620\n",
       "std           3.472919\n",
       "min           0.003143\n",
       "25%           0.901845\n",
       "50%           1.610695\n",
       "75%           2.892851\n",
       "max          31.642037\n",
       "Name: distance, dtype: float64"
      ]
     },
     "execution_count": 118,
     "metadata": {},
     "output_type": "execute_result"
    }
   ],
   "source": [
    "df[\"distance\"].describe()"
   ]
  },
  {
   "cell_type": "markdown",
   "id": "dc6be995",
   "metadata": {},
   "source": [
    "The mean distance travelled is just under 3 km, with the maximum of 31 and minimum of 3 metres!"
   ]
  },
  {
   "cell_type": "code",
   "execution_count": 119,
   "id": "cf67ef54",
   "metadata": {},
   "outputs": [
    {
     "data": {
      "text/html": [
       "<div>\n",
       "<style scoped>\n",
       "    .dataframe tbody tr th:only-of-type {\n",
       "        vertical-align: middle;\n",
       "    }\n",
       "\n",
       "    .dataframe tbody tr th {\n",
       "        vertical-align: top;\n",
       "    }\n",
       "\n",
       "    .dataframe thead th {\n",
       "        text-align: right;\n",
       "    }\n",
       "</style>\n",
       "<table border=\"1\" class=\"dataframe\">\n",
       "  <thead>\n",
       "    <tr style=\"text-align: right;\">\n",
       "      <th></th>\n",
       "      <th>pickup_datetime</th>\n",
       "      <th>fare_amount</th>\n",
       "      <th>fare_class</th>\n",
       "      <th>pickup_longitude</th>\n",
       "      <th>pickup_latitude</th>\n",
       "      <th>dropoff_longitude</th>\n",
       "      <th>dropoff_latitude</th>\n",
       "      <th>passenger_count</th>\n",
       "      <th>distance</th>\n",
       "    </tr>\n",
       "  </thead>\n",
       "  <tbody>\n",
       "    <tr>\n",
       "      <th>15376</th>\n",
       "      <td>2010-04-24 23:39:01 UTC</td>\n",
       "      <td>2.50</td>\n",
       "      <td>0</td>\n",
       "      <td>-74.005279</td>\n",
       "      <td>40.721473</td>\n",
       "      <td>-74.005307</td>\n",
       "      <td>40.721580</td>\n",
       "      <td>1</td>\n",
       "      <td>0.004539</td>\n",
       "    </tr>\n",
       "    <tr>\n",
       "      <th>33527</th>\n",
       "      <td>2010-04-15 20:38:41 UTC</td>\n",
       "      <td>2.50</td>\n",
       "      <td>0</td>\n",
       "      <td>-74.002357</td>\n",
       "      <td>40.726479</td>\n",
       "      <td>-74.002368</td>\n",
       "      <td>40.726573</td>\n",
       "      <td>1</td>\n",
       "      <td>0.003143</td>\n",
       "    </tr>\n",
       "    <tr>\n",
       "      <th>46019</th>\n",
       "      <td>2010-04-15 06:38:22 UTC</td>\n",
       "      <td>49.57</td>\n",
       "      <td>1</td>\n",
       "      <td>-73.980163</td>\n",
       "      <td>40.776280</td>\n",
       "      <td>-73.980179</td>\n",
       "      <td>40.776189</td>\n",
       "      <td>1</td>\n",
       "      <td>0.003325</td>\n",
       "    </tr>\n",
       "    <tr>\n",
       "      <th>46535</th>\n",
       "      <td>2010-04-22 07:49:32 UTC</td>\n",
       "      <td>14.90</td>\n",
       "      <td>1</td>\n",
       "      <td>-73.965577</td>\n",
       "      <td>40.755685</td>\n",
       "      <td>-73.965601</td>\n",
       "      <td>40.755786</td>\n",
       "      <td>2</td>\n",
       "      <td>0.004108</td>\n",
       "    </tr>\n",
       "    <tr>\n",
       "      <th>62056</th>\n",
       "      <td>2010-04-14 10:56:47 UTC</td>\n",
       "      <td>14.00</td>\n",
       "      <td>1</td>\n",
       "      <td>-73.993123</td>\n",
       "      <td>40.736208</td>\n",
       "      <td>-73.993147</td>\n",
       "      <td>40.736118</td>\n",
       "      <td>1</td>\n",
       "      <td>0.003854</td>\n",
       "    </tr>\n",
       "    <tr>\n",
       "      <th>88598</th>\n",
       "      <td>2010-04-22 21:57:57 UTC</td>\n",
       "      <td>5.70</td>\n",
       "      <td>0</td>\n",
       "      <td>-73.958604</td>\n",
       "      <td>40.773224</td>\n",
       "      <td>-73.958605</td>\n",
       "      <td>40.773083</td>\n",
       "      <td>1</td>\n",
       "      <td>0.004352</td>\n",
       "    </tr>\n",
       "  </tbody>\n",
       "</table>\n",
       "</div>"
      ],
      "text/plain": [
       "               pickup_datetime  fare_amount  fare_class  pickup_longitude  \\\n",
       "15376  2010-04-24 23:39:01 UTC         2.50           0        -74.005279   \n",
       "33527  2010-04-15 20:38:41 UTC         2.50           0        -74.002357   \n",
       "46019  2010-04-15 06:38:22 UTC        49.57           1        -73.980163   \n",
       "46535  2010-04-22 07:49:32 UTC        14.90           1        -73.965577   \n",
       "62056  2010-04-14 10:56:47 UTC        14.00           1        -73.993123   \n",
       "88598  2010-04-22 21:57:57 UTC         5.70           0        -73.958604   \n",
       "\n",
       "       pickup_latitude  dropoff_longitude  dropoff_latitude  passenger_count  \\\n",
       "15376        40.721473         -74.005307         40.721580                1   \n",
       "33527        40.726479         -74.002368         40.726573                1   \n",
       "46019        40.776280         -73.980179         40.776189                1   \n",
       "46535        40.755685         -73.965601         40.755786                2   \n",
       "62056        40.736208         -73.993147         40.736118                1   \n",
       "88598        40.773224         -73.958605         40.773083                1   \n",
       "\n",
       "       distance  \n",
       "15376  0.004539  \n",
       "33527  0.003143  \n",
       "46019  0.003325  \n",
       "46535  0.004108  \n",
       "62056  0.003854  \n",
       "88598  0.004352  "
      ]
     },
     "execution_count": 119,
     "metadata": {},
     "output_type": "execute_result"
    }
   ],
   "source": [
    "# Journeys less than 5 metres\n",
    "df[df[\"distance\"] < 0.005]"
   ]
  },
  {
   "cell_type": "code",
   "execution_count": 120,
   "id": "5fe1a0eb",
   "metadata": {},
   "outputs": [],
   "source": [
    "#df.drop(columns = [\"pickup_longitude\", \"pickup_latitude\", \"dropoff_longitude\", \"dropoff_latitude\"], axis = 1, inplace = True)"
   ]
  },
  {
   "cell_type": "code",
   "execution_count": 121,
   "id": "0527a2d8",
   "metadata": {},
   "outputs": [
    {
     "data": {
      "text/html": [
       "<div>\n",
       "<style scoped>\n",
       "    .dataframe tbody tr th:only-of-type {\n",
       "        vertical-align: middle;\n",
       "    }\n",
       "\n",
       "    .dataframe tbody tr th {\n",
       "        vertical-align: top;\n",
       "    }\n",
       "\n",
       "    .dataframe thead th {\n",
       "        text-align: right;\n",
       "    }\n",
       "</style>\n",
       "<table border=\"1\" class=\"dataframe\">\n",
       "  <thead>\n",
       "    <tr style=\"text-align: right;\">\n",
       "      <th></th>\n",
       "      <th>pickup_datetime</th>\n",
       "      <th>fare_amount</th>\n",
       "      <th>fare_class</th>\n",
       "      <th>pickup_longitude</th>\n",
       "      <th>pickup_latitude</th>\n",
       "      <th>dropoff_longitude</th>\n",
       "      <th>dropoff_latitude</th>\n",
       "      <th>passenger_count</th>\n",
       "      <th>distance</th>\n",
       "      <th>EDTdate</th>\n",
       "      <th>Hour</th>\n",
       "      <th>AMorPM</th>\n",
       "      <th>Weekday</th>\n",
       "    </tr>\n",
       "  </thead>\n",
       "  <tbody>\n",
       "    <tr>\n",
       "      <th>0</th>\n",
       "      <td>2010-04-19 08:17:56 UTC</td>\n",
       "      <td>6.5</td>\n",
       "      <td>0</td>\n",
       "      <td>-73.992365</td>\n",
       "      <td>40.730521</td>\n",
       "      <td>-73.975499</td>\n",
       "      <td>40.744746</td>\n",
       "      <td>1</td>\n",
       "      <td>1.932727</td>\n",
       "      <td>2010-04-19 04:17:56</td>\n",
       "      <td>4</td>\n",
       "      <td>am</td>\n",
       "      <td>Mon</td>\n",
       "    </tr>\n",
       "    <tr>\n",
       "      <th>1</th>\n",
       "      <td>2010-04-17 15:43:53 UTC</td>\n",
       "      <td>6.9</td>\n",
       "      <td>0</td>\n",
       "      <td>-73.990078</td>\n",
       "      <td>40.740558</td>\n",
       "      <td>-73.974232</td>\n",
       "      <td>40.744114</td>\n",
       "      <td>1</td>\n",
       "      <td>1.771932</td>\n",
       "      <td>2010-04-17 11:43:53</td>\n",
       "      <td>11</td>\n",
       "      <td>am</td>\n",
       "      <td>Sat</td>\n",
       "    </tr>\n",
       "  </tbody>\n",
       "</table>\n",
       "</div>"
      ],
      "text/plain": [
       "           pickup_datetime  fare_amount  fare_class  pickup_longitude  \\\n",
       "0  2010-04-19 08:17:56 UTC          6.5           0        -73.992365   \n",
       "1  2010-04-17 15:43:53 UTC          6.9           0        -73.990078   \n",
       "\n",
       "   pickup_latitude  dropoff_longitude  dropoff_latitude  passenger_count  \\\n",
       "0        40.730521         -73.975499         40.744746                1   \n",
       "1        40.740558         -73.974232         40.744114                1   \n",
       "\n",
       "   distance             EDTdate  Hour AMorPM Weekday  \n",
       "0  1.932727 2010-04-19 04:17:56     4     am     Mon  \n",
       "1  1.771932 2010-04-17 11:43:53    11     am     Sat  "
      ]
     },
     "execution_count": 121,
     "metadata": {},
     "output_type": "execute_result"
    }
   ],
   "source": [
    "# Get the datetime\n",
    "# The data was saved in UTC time and is in April of 2010 during Daylight Savings Time in New York. \n",
    "# EDT is adjusted using UTC-4 (subtracting four hours).\n",
    "df['EDTdate'] = pd.to_datetime(df['pickup_datetime'].str[:19])- pd.Timedelta(hours=4)\n",
    "df['Hour'] = df['EDTdate'].dt.hour\n",
    "df['AMorPM'] = np.where(df['Hour']<12,'am','pm')\n",
    "df['Weekday'] = df['EDTdate'].dt.strftime(\"%a\")\n",
    "df.head(2)"
   ]
  },
  {
   "cell_type": "code",
   "execution_count": 122,
   "id": "6393c4ff",
   "metadata": {},
   "outputs": [
    {
     "name": "stdout",
     "output_type": "stream",
     "text": [
      "2010-04-11 00:00:10\n",
      "2010-04-24 23:59:42\n"
     ]
    }
   ],
   "source": [
    "print(df['EDTdate'].min())\n",
    "print(df['EDTdate'].max())"
   ]
  },
  {
   "cell_type": "markdown",
   "id": "80ed5a0b",
   "metadata": {},
   "source": [
    "### Data Exploration and Visualisation"
   ]
  },
  {
   "cell_type": "code",
   "execution_count": 123,
   "id": "b585357f",
   "metadata": {},
   "outputs": [
    {
     "data": {
      "text/html": [
       "<div>\n",
       "<style scoped>\n",
       "    .dataframe tbody tr th:only-of-type {\n",
       "        vertical-align: middle;\n",
       "    }\n",
       "\n",
       "    .dataframe tbody tr th {\n",
       "        vertical-align: top;\n",
       "    }\n",
       "\n",
       "    .dataframe thead th {\n",
       "        text-align: right;\n",
       "    }\n",
       "</style>\n",
       "<table border=\"1\" class=\"dataframe\">\n",
       "  <thead>\n",
       "    <tr style=\"text-align: right;\">\n",
       "      <th></th>\n",
       "      <th>pickup_datetime</th>\n",
       "      <th>fare_amount</th>\n",
       "      <th>fare_class</th>\n",
       "      <th>pickup_longitude</th>\n",
       "      <th>pickup_latitude</th>\n",
       "      <th>dropoff_longitude</th>\n",
       "      <th>dropoff_latitude</th>\n",
       "      <th>passenger_count</th>\n",
       "      <th>distance</th>\n",
       "      <th>EDTdate</th>\n",
       "      <th>Hour</th>\n",
       "      <th>AMorPM</th>\n",
       "      <th>Weekday</th>\n",
       "    </tr>\n",
       "  </thead>\n",
       "  <tbody>\n",
       "    <tr>\n",
       "      <th>0</th>\n",
       "      <td>2010-04-19 08:17:56 UTC</td>\n",
       "      <td>6.5</td>\n",
       "      <td>0</td>\n",
       "      <td>-73.992365</td>\n",
       "      <td>40.730521</td>\n",
       "      <td>-73.975499</td>\n",
       "      <td>40.744746</td>\n",
       "      <td>1</td>\n",
       "      <td>1.932727</td>\n",
       "      <td>2010-04-19 04:17:56</td>\n",
       "      <td>4</td>\n",
       "      <td>am</td>\n",
       "      <td>Mon</td>\n",
       "    </tr>\n",
       "    <tr>\n",
       "      <th>1</th>\n",
       "      <td>2010-04-17 15:43:53 UTC</td>\n",
       "      <td>6.9</td>\n",
       "      <td>0</td>\n",
       "      <td>-73.990078</td>\n",
       "      <td>40.740558</td>\n",
       "      <td>-73.974232</td>\n",
       "      <td>40.744114</td>\n",
       "      <td>1</td>\n",
       "      <td>1.771932</td>\n",
       "      <td>2010-04-17 11:43:53</td>\n",
       "      <td>11</td>\n",
       "      <td>am</td>\n",
       "      <td>Sat</td>\n",
       "    </tr>\n",
       "  </tbody>\n",
       "</table>\n",
       "</div>"
      ],
      "text/plain": [
       "           pickup_datetime  fare_amount  fare_class  pickup_longitude  \\\n",
       "0  2010-04-19 08:17:56 UTC          6.5           0        -73.992365   \n",
       "1  2010-04-17 15:43:53 UTC          6.9           0        -73.990078   \n",
       "\n",
       "   pickup_latitude  dropoff_longitude  dropoff_latitude  passenger_count  \\\n",
       "0        40.730521         -73.975499         40.744746                1   \n",
       "1        40.740558         -73.974232         40.744114                1   \n",
       "\n",
       "   distance             EDTdate  Hour AMorPM Weekday  \n",
       "0  1.932727 2010-04-19 04:17:56     4     am     Mon  \n",
       "1  1.771932 2010-04-17 11:43:53    11     am     Sat  "
      ]
     },
     "execution_count": 123,
     "metadata": {},
     "output_type": "execute_result"
    }
   ],
   "source": [
    "df.head(2)"
   ]
  },
  {
   "cell_type": "code",
   "execution_count": 124,
   "id": "5ee26c0c",
   "metadata": {},
   "outputs": [
    {
     "data": {
      "image/png": "[encoded data removed]",
      "text/plain": [
       "<Figure size 432x288 with 1 Axes>"
      ]
     },
     "metadata": {},
     "output_type": "display_data"
    }
   ],
   "source": [
    "sns.histplot(data=df, x=\"distance\", kde = True)\n",
    "plt.title(\"Distribution of Distance Travelled\");"
   ]
  },
  {
   "cell_type": "code",
   "execution_count": 125,
   "id": "80764463",
   "metadata": {},
   "outputs": [
    {
     "data": {
      "image/png": "[encoded data removed]",
      "text/plain": [
       "<Figure size 432x288 with 1 Axes>"
      ]
     },
     "metadata": {},
     "output_type": "display_data"
    }
   ],
   "source": [
    "sns.boxplot(data = df, y = \"distance\");"
   ]
  },
  {
   "cell_type": "markdown",
   "id": "8f90d28c",
   "metadata": {},
   "source": [
    "Most distances travelled are below 5km. The distribution is positive skewed with a few outliers"
   ]
  },
  {
   "cell_type": "code",
   "execution_count": 126,
   "id": "96c29010",
   "metadata": {},
   "outputs": [
    {
     "data": {
      "image/png": "[encoded data removed]",
      "text/plain": [
       "<Figure size 432x288 with 1 Axes>"
      ]
     },
     "metadata": {},
     "output_type": "display_data"
    }
   ],
   "source": [
    "sns.histplot(df[\"fare_amount\"],kde = True)\n",
    "plt.title(\"Distribution of Fares\");"
   ]
  },
  {
   "cell_type": "code",
   "execution_count": 127,
   "id": "1e909d86",
   "metadata": {},
   "outputs": [
    {
     "data": {
      "image/png": "[encoded data removed]",
      "text/plain": [
       "<Figure size 432x288 with 1 Axes>"
      ]
     },
     "metadata": {},
     "output_type": "display_data"
    }
   ],
   "source": [
    "sns.boxplot(data = df, y = \"fare_amount\");"
   ]
  },
  {
   "cell_type": "markdown",
   "id": "0224eba6",
   "metadata": {},
   "source": [
    "Most fares are below $20. The distribution is positive skewed with outliers"
   ]
  },
  {
   "cell_type": "code",
   "execution_count": 128,
   "id": "0569c3f1",
   "metadata": {},
   "outputs": [
    {
     "data": {
      "image/png": "[encoded data removed]",
      "text/plain": [
       "<Figure size 432x288 with 1 Axes>"
      ]
     },
     "metadata": {},
     "output_type": "display_data"
    }
   ],
   "source": [
    "sns.countplot(data = df, x = \"fare_class\")\n",
    "plt.title(\"Taxi Rides by Fare Class\");"
   ]
  },
  {
   "cell_type": "code",
   "execution_count": 157,
   "id": "df146101",
   "metadata": {},
   "outputs": [
    {
     "data": {
      "text/plain": [
       "0    80000\n",
       "1    40000\n",
       "Name: fare_class, dtype: int64"
      ]
     },
     "execution_count": 157,
     "metadata": {},
     "output_type": "execute_result"
    }
   ],
   "source": [
    "df[\"fare_class\"].value_counts()"
   ]
  },
  {
   "cell_type": "markdown",
   "id": "9d0a4a93",
   "metadata": {},
   "source": [
    "Fare class 0 is the most used."
   ]
  },
  {
   "cell_type": "code",
   "execution_count": 129,
   "id": "2ffcacee",
   "metadata": {},
   "outputs": [
    {
     "data": {
      "image/png": "[encoded data removed]",
      "text/plain": [
       "<Figure size 432x288 with 1 Axes>"
      ]
     },
     "metadata": {},
     "output_type": "display_data"
    }
   ],
   "source": [
    "sns.countplot(data = df, x = \"passenger_count\")\n",
    "plt.title(\"Taxi Rides by Passenger Count\");"
   ]
  },
  {
   "cell_type": "markdown",
   "id": "06403ea0",
   "metadata": {},
   "source": [
    "Most rides only contain one passenger"
   ]
  },
  {
   "cell_type": "code",
   "execution_count": 130,
   "id": "3f01c001",
   "metadata": {},
   "outputs": [
    {
     "data": {
      "image/png": "[encoded data removed]",
      "text/plain": [
       "<Figure size 432x288 with 1 Axes>"
      ]
     },
     "metadata": {},
     "output_type": "display_data"
    }
   ],
   "source": [
    "sns.countplot(data = df, x = \"Weekday\")\n",
    "plt.title(\"Taxi Rides by Day\");"
   ]
  },
  {
   "cell_type": "markdown",
   "id": "41a32f93",
   "metadata": {},
   "source": [
    "The busiest day for taxis is Friday and Sunday the least busy"
   ]
  },
  {
   "cell_type": "code",
   "execution_count": 131,
   "id": "d076116d",
   "metadata": {},
   "outputs": [
    {
     "data": {
      "image/png": "[encoded data removed]",
      "text/plain": [
       "<Figure size 432x288 with 1 Axes>"
      ]
     },
     "metadata": {},
     "output_type": "display_data"
    }
   ],
   "source": [
    "sns.countplot(data = df, x = \"AMorPM\")\n",
    "plt.title(\"Taxi Rides by Am or Pm\");"
   ]
  },
  {
   "cell_type": "markdown",
   "id": "a61d1829",
   "metadata": {},
   "source": [
    "Most taxi rides are in the afternoon"
   ]
  },
  {
   "cell_type": "code",
   "execution_count": 132,
   "id": "d7bf1a6d",
   "metadata": {},
   "outputs": [
    {
     "data": {
      "image/png": "[encoded data removed]",
      "text/plain": [
       "<Figure size 432x288 with 1 Axes>"
      ]
     },
     "metadata": {},
     "output_type": "display_data"
    }
   ],
   "source": [
    "sns.countplot(data = df, x = \"Hour\")\n",
    "plt.title(\"Taxi Rides by Hour of Day\");"
   ]
  },
  {
   "cell_type": "markdown",
   "id": "37c2076b",
   "metadata": {},
   "source": [
    "The busiest times of day for taxis are 2pm to 3pm and the least busy times are at midnight to 2am"
   ]
  },
  {
   "cell_type": "code",
   "execution_count": 133,
   "id": "c6376157",
   "metadata": {},
   "outputs": [
    {
     "data": {
      "image/png": "[encoded data removed]",
      "text/plain": [
       "<Figure size 432x288 with 2 Axes>"
      ]
     },
     "metadata": {},
     "output_type": "display_data"
    }
   ],
   "source": [
    "sns.heatmap(df.corr(), annot = True);"
   ]
  },
  {
   "cell_type": "markdown",
   "id": "81284aad",
   "metadata": {},
   "source": [
    "The fare class is most highly correlated with fare amount and distance travelled"
   ]
  },
  {
   "cell_type": "markdown",
   "id": "c421f4ec",
   "metadata": {},
   "source": [
    "### Categorical variables"
   ]
  },
  {
   "cell_type": "code",
   "execution_count": 134,
   "id": "50aa6210",
   "metadata": {},
   "outputs": [
    {
     "data": {
      "text/plain": [
       "Index(['pickup_datetime', 'fare_amount', 'fare_class', 'pickup_longitude',\n",
       "       'pickup_latitude', 'dropoff_longitude', 'dropoff_latitude',\n",
       "       'passenger_count', 'distance', 'EDTdate', 'Hour', 'AMorPM', 'Weekday'],\n",
       "      dtype='object')"
      ]
     },
     "execution_count": 134,
     "metadata": {},
     "output_type": "execute_result"
    }
   ],
   "source": [
    "df.columns"
   ]
  },
  {
   "cell_type": "code",
   "execution_count": 197,
   "id": "181c6319",
   "metadata": {},
   "outputs": [],
   "source": [
    "# Some variables can be categorical or continuous (eg hour)\n",
    "cat_cols = ['Hour', 'AMorPM', 'Weekday']\n",
    "cont_cols = ['pickup_latitude', 'pickup_longitude', 'dropoff_latitude', 'dropoff_longitude', 'passenger_count', 'distance']\n",
    "y_col = ['fare_class'] # the label is the fare-class"
   ]
  },
  {
   "cell_type": "code",
   "execution_count": 198,
   "id": "9ee3cd42",
   "metadata": {},
   "outputs": [],
   "source": [
    "# Convert category columns to category variable type\n",
    "for cat in cat_cols:\n",
    "    df[cat] = df[cat].astype('category')"
   ]
  },
  {
   "cell_type": "code",
   "execution_count": 199,
   "id": "2173dc59",
   "metadata": {},
   "outputs": [
    {
     "name": "stdout",
     "output_type": "stream",
     "text": [
      "<class 'pandas.core.frame.DataFrame'>\n",
      "RangeIndex: 120000 entries, 0 to 119999\n",
      "Data columns (total 13 columns):\n",
      " #   Column             Non-Null Count   Dtype         \n",
      "---  ------             --------------   -----         \n",
      " 0   pickup_datetime    120000 non-null  object        \n",
      " 1   fare_amount        120000 non-null  float64       \n",
      " 2   fare_class         120000 non-null  int64         \n",
      " 3   pickup_longitude   120000 non-null  float64       \n",
      " 4   pickup_latitude    120000 non-null  float64       \n",
      " 5   dropoff_longitude  120000 non-null  float64       \n",
      " 6   dropoff_latitude   120000 non-null  float64       \n",
      " 7   passenger_count    120000 non-null  int64         \n",
      " 8   distance           120000 non-null  float64       \n",
      " 9   EDTdate            120000 non-null  datetime64[ns]\n",
      " 10  Hour               120000 non-null  category      \n",
      " 11  AMorPM             120000 non-null  category      \n",
      " 12  Weekday            120000 non-null  category      \n",
      "dtypes: category(3), datetime64[ns](1), float64(6), int64(2), object(1)\n",
      "memory usage: 9.5+ MB\n"
     ]
    }
   ],
   "source": [
    "df.info()"
   ]
  },
  {
   "cell_type": "code",
   "execution_count": 200,
   "id": "cb0158b0",
   "metadata": {},
   "outputs": [
    {
     "data": {
      "text/plain": [
       "Index(['Fri', 'Mon', 'Sat', 'Sun', 'Thu', 'Tue', 'Wed'], dtype='object')"
      ]
     },
     "execution_count": 200,
     "metadata": {},
     "output_type": "execute_result"
    }
   ],
   "source": [
    "# Check one of the categories - weekday\n",
    "df[\"Weekday\"].cat.categories"
   ]
  },
  {
   "cell_type": "code",
   "execution_count": 201,
   "id": "9366782e",
   "metadata": {},
   "outputs": [
    {
     "data": {
      "text/plain": [
       "0         1\n",
       "1         2\n",
       "2         2\n",
       "3         3\n",
       "4         0\n",
       "         ..\n",
       "119995    3\n",
       "119996    0\n",
       "119997    3\n",
       "119998    5\n",
       "119999    2\n",
       "Length: 120000, dtype: int8"
      ]
     },
     "execution_count": 201,
     "metadata": {},
     "output_type": "execute_result"
    }
   ],
   "source": [
    "# How the data is coded as numerical values\n",
    "df[\"Weekday\"].cat.codes"
   ]
  },
  {
   "cell_type": "code",
   "execution_count": 202,
   "id": "8113e6e1",
   "metadata": {},
   "outputs": [
    {
     "data": {
      "text/plain": [
       "array([1, 2, 2, ..., 3, 5, 2], dtype=int8)"
      ]
     },
     "execution_count": 202,
     "metadata": {},
     "output_type": "execute_result"
    }
   ],
   "source": [
    "# Check format is numpy array which can be transformed into tensors\n",
    "df[\"Weekday\"].cat.codes.values"
   ]
  },
  {
   "cell_type": "code",
   "execution_count": 203,
   "id": "e22132bc",
   "metadata": {},
   "outputs": [
    {
     "data": {
      "text/plain": [
       "array([[ 4,  0,  1],\n",
       "       [11,  0,  2],\n",
       "       [ 7,  0,  2]], dtype=int8)"
      ]
     },
     "execution_count": 203,
     "metadata": {},
     "output_type": "execute_result"
    }
   ],
   "source": [
    "# Convert the data into arrays which can be combined into one array\n",
    "hr = df['Hour'].cat.codes.values\n",
    "ampm = df['AMorPM'].cat.codes.values\n",
    "wkdy = df['Weekday'].cat.codes.values\n",
    "\n",
    "cats = np.stack([hr, ampm, wkdy], 1) # combine the variables into one stacked along columns (axis = 1)\n",
    "\n",
    "cats[:3] # check the first few"
   ]
  },
  {
   "cell_type": "markdown",
   "id": "8179211c",
   "metadata": {},
   "source": [
    "Alternative to do the stacking:\n",
    "\n",
    "* cats = np.stack([df[col].cat.codes.values for col in cat], 1)"
   ]
  },
  {
   "cell_type": "code",
   "execution_count": 204,
   "id": "3c8cd843",
   "metadata": {},
   "outputs": [
    {
     "data": {
      "text/plain": [
       "tensor([[ 4,  0,  1],\n",
       "        [11,  0,  2],\n",
       "        [ 7,  0,  2],\n",
       "        [17,  1,  3],\n",
       "        [22,  1,  0]])"
      ]
     },
     "execution_count": 204,
     "metadata": {},
     "output_type": "execute_result"
    }
   ],
   "source": [
    "# Convert to tensor\n",
    "cats = torch.tensor(cats, dtype=torch.int64) # source data is an array, not an existing tensor so method used\n",
    "cats[:5]"
   ]
  },
  {
   "cell_type": "code",
   "execution_count": 205,
   "id": "2bf9d778",
   "metadata": {},
   "outputs": [
    {
     "data": {
      "text/plain": [
       "tensor([[ 40.7305, -73.9924,  40.7447, -73.9755,   1.0000,   1.9327],\n",
       "        [ 40.7406, -73.9901,  40.7441, -73.9742,   1.0000,   1.7719],\n",
       "        [ 40.7511, -73.9941,  40.7662, -73.9601,   2.0000,   3.8326],\n",
       "        [ 40.7564, -73.9905,  40.7482, -73.9712,   1.0000,   2.1667],\n",
       "        [ 40.7342, -73.9910,  40.7431, -73.9060,   1.0000,   9.4929]])"
      ]
     },
     "execution_count": 205,
     "metadata": {},
     "output_type": "execute_result"
    }
   ],
   "source": [
    "# Convert continuous variables to a combined tensor also\n",
    "conts = np.stack([df[col].values for col in cont_cols], 1)\n",
    "conts = torch.tensor(conts, dtype=torch.float)\n",
    "conts[:5]"
   ]
  },
  {
   "cell_type": "markdown",
   "id": "7c7407fc",
   "metadata": {},
   "source": [
    "Note: CrossEntropyLoss function expects a 1d y-tensor, so replace .reshape(-1,1) with .flatten() "
   ]
  },
  {
   "cell_type": "code",
   "execution_count": 206,
   "id": "6e65a61c",
   "metadata": {},
   "outputs": [
    {
     "data": {
      "text/plain": [
       "tensor([0, 0, 1, 0, 1])"
      ]
     },
     "execution_count": 206,
     "metadata": {},
     "output_type": "execute_result"
    }
   ],
   "source": [
    "# Convert labels to tensor (flatten to get values in shape required)\n",
    "y = torch.tensor(df[y_col].values).flatten()\n",
    "y[:5]"
   ]
  },
  {
   "cell_type": "code",
   "execution_count": 207,
   "id": "660ae546",
   "metadata": {},
   "outputs": [
    {
     "name": "stdout",
     "output_type": "stream",
     "text": [
      "torch.Size([120000, 3]) torch.Size([120000, 6]) torch.Size([120000])\n"
     ]
    }
   ],
   "source": [
    "# Check the shapes\n",
    "print(cats.shape, conts.shape, y.shape)"
   ]
  },
  {
   "cell_type": "markdown",
   "id": "625e0e5c",
   "metadata": {},
   "source": [
    "### Set Embedding Sizes for categorical variables"
   ]
  },
  {
   "cell_type": "markdown",
   "id": "ec91cf5b",
   "metadata": {},
   "source": [
    "Need to one-hot encode the categories (similar to text)"
   ]
  },
  {
   "cell_type": "code",
   "execution_count": 208,
   "id": "3ae89a07",
   "metadata": {},
   "outputs": [
    {
     "data": {
      "text/plain": [
       "[24, 2, 7]"
      ]
     },
     "execution_count": 208,
     "metadata": {},
     "output_type": "execute_result"
    }
   ],
   "source": [
    "# Get the size of each category in a list form\n",
    "cat_szs = [len(df[col].cat.categories) for col in cat_cols]\n",
    "cat_szs # returns the sizes of each category"
   ]
  },
  {
   "cell_type": "code",
   "execution_count": 209,
   "id": "b40da923",
   "metadata": {},
   "outputs": [
    {
     "data": {
      "text/plain": [
       "[(24, 12), (2, 1), (7, 4)]"
      ]
     },
     "execution_count": 209,
     "metadata": {},
     "output_type": "execute_result"
    }
   ],
   "source": [
    "# Get embedding sizes and compare to original size\n",
    "emb_szs = [(size, min(50, (size+1)//2)) for size in cat_szs] # divide the number of entries by 2 to a max of 50\n",
    "emb_szs"
   ]
  },
  {
   "cell_type": "markdown",
   "id": "5262e5cb",
   "metadata": {},
   "source": [
    "### Tabular Model for categorical and continuous variables"
   ]
  },
  {
   "cell_type": "markdown",
   "id": "bbb8a436",
   "metadata": {},
   "source": [
    "#### EXAMPLE"
   ]
  },
  {
   "cell_type": "code",
   "execution_count": 210,
   "id": "736e0049",
   "metadata": {},
   "outputs": [
    {
     "data": {
      "text/plain": [
       "tensor([[ 4,  0,  1],\n",
       "        [11,  0,  2],\n",
       "        [ 7,  0,  2],\n",
       "        [17,  1,  3]])"
      ]
     },
     "execution_count": 210,
     "metadata": {},
     "output_type": "execute_result"
    }
   ],
   "source": [
    "# Show the first few lines for the combined category tensor\n",
    "cat_s = cats[:4]\n",
    "cat_s"
   ]
  },
  {
   "cell_type": "code",
   "execution_count": 211,
   "id": "8f434a04",
   "metadata": {},
   "outputs": [
    {
     "data": {
      "text/plain": [
       "ModuleList(\n",
       "  (0): Embedding(24, 12)\n",
       "  (1): Embedding(2, 1)\n",
       "  (2): Embedding(7, 4)\n",
       ")"
      ]
     },
     "execution_count": 211,
     "metadata": {},
     "output_type": "execute_result"
    }
   ],
   "source": [
    "# Create a list of the embeddings\n",
    "selfembeds = nn.ModuleList([nn.Embedding(ni, nf) for ni,nf in emb_szs])\n",
    "selfembeds"
   ]
  },
  {
   "cell_type": "code",
   "execution_count": 212,
   "id": "b3282795",
   "metadata": {},
   "outputs": [
    {
     "data": {
      "text/plain": [
       "[(0, Embedding(24, 12)), (1, Embedding(2, 1)), (2, Embedding(7, 4))]"
      ]
     },
     "execution_count": 212,
     "metadata": {},
     "output_type": "execute_result"
    }
   ],
   "source": [
    "# Show the number and embedding tuple\n",
    "list(enumerate(selfembeds))"
   ]
  },
  {
   "cell_type": "code",
   "execution_count": 213,
   "id": "2b3bd9b6",
   "metadata": {},
   "outputs": [
    {
     "data": {
      "text/plain": [
       "[tensor([[-1.6083, -0.6794, -0.4508,  0.0203, -0.4921, -0.5723, -0.2064,  0.6894,\n",
       "           0.2057,  0.1340,  0.4468, -0.1650],\n",
       "         [ 1.3122, -0.7794, -2.2098,  1.4386,  0.7397,  0.0923, -0.1854, -0.8630,\n",
       "          -0.0248, -0.2795,  1.1550,  0.6538],\n",
       "         [ 0.9936,  0.4148,  0.3194, -0.5859,  0.6100, -0.5596,  0.0337,  1.9229,\n",
       "          -0.5247, -0.1242, -0.6462, -0.3340],\n",
       "         [ 0.4417, -0.5308, -0.3318,  0.1862,  0.7462,  3.0095,  2.0934,  0.9642,\n",
       "          -1.3648, -1.1365,  0.9475,  1.0879]], grad_fn=<EmbeddingBackward0>),\n",
       " tensor([[1.6579],\n",
       "         [1.6579],\n",
       "         [1.6579],\n",
       "         [0.8753]], grad_fn=<EmbeddingBackward0>),\n",
       " tensor([[-0.3239,  2.2323,  0.8946,  0.4114],\n",
       "         [-0.5971,  0.2951,  1.2531, -0.1006],\n",
       "         [-0.5971,  0.2951,  1.2531, -0.1006],\n",
       "         [-0.8970, -0.2125, -1.4039,  0.9702]], grad_fn=<EmbeddingBackward0>)]"
      ]
     },
     "execution_count": 213,
     "metadata": {},
     "output_type": "execute_result"
    }
   ],
   "source": [
    "# Show the forward pass using the sample of cats and show the embeddings\n",
    "embedding_s = []\n",
    "for i,e in enumerate(selfembeds):\n",
    "    embedding_s.append(e(cat_s[:,i]))\n",
    "embedding_s # the first embedding has 12 values, second has 1 and third has 4 for each of the records"
   ]
  },
  {
   "cell_type": "code",
   "execution_count": 214,
   "id": "cdc81a33",
   "metadata": {},
   "outputs": [
    {
     "data": {
      "text/plain": [
       "tensor([[-0.3239,  2.2323,  0.8946,  0.4114],\n",
       "        [-0.5971,  0.2951,  1.2531, -0.1006],\n",
       "        [-0.5971,  0.2951,  1.2531, -0.1006],\n",
       "        [-0.8970, -0.2125, -1.4039,  0.9702]], grad_fn=<EmbeddingBackward0>)"
      ]
     },
     "execution_count": 214,
     "metadata": {},
     "output_type": "execute_result"
    }
   ],
   "source": [
    "# The third embedding has four values as per emb_szs\n",
    "embedding_s[2]"
   ]
  },
  {
   "cell_type": "code",
   "execution_count": 215,
   "id": "32ad8e3f",
   "metadata": {},
   "outputs": [
    {
     "data": {
      "text/plain": [
       "tensor([[-1.6083, -0.6794, -0.4508,  0.0203, -0.4921, -0.5723, -0.2064,  0.6894,\n",
       "          0.2057,  0.1340,  0.4468, -0.1650,  1.6579, -0.3239,  2.2323,  0.8946,\n",
       "          0.4114],\n",
       "        [ 1.3122, -0.7794, -2.2098,  1.4386,  0.7397,  0.0923, -0.1854, -0.8630,\n",
       "         -0.0248, -0.2795,  1.1550,  0.6538,  1.6579, -0.5971,  0.2951,  1.2531,\n",
       "         -0.1006],\n",
       "        [ 0.9936,  0.4148,  0.3194, -0.5859,  0.6100, -0.5596,  0.0337,  1.9229,\n",
       "         -0.5247, -0.1242, -0.6462, -0.3340,  1.6579, -0.5971,  0.2951,  1.2531,\n",
       "         -0.1006],\n",
       "        [ 0.4417, -0.5308, -0.3318,  0.1862,  0.7462,  3.0095,  2.0934,  0.9642,\n",
       "         -1.3648, -1.1365,  0.9475,  1.0879,  0.8753, -0.8970, -0.2125, -1.4039,\n",
       "          0.9702]], grad_fn=<CatBackward0>)"
      ]
     },
     "execution_count": 215,
     "metadata": {},
     "output_type": "execute_result"
    }
   ],
   "source": [
    "# Concat the embeddings into one tensor embedding with 17 values\n",
    "comb = torch.cat(embedding_s, 1)\n",
    "comb"
   ]
  },
  {
   "cell_type": "code",
   "execution_count": 216,
   "id": "c47f197f",
   "metadata": {},
   "outputs": [
    {
     "data": {
      "text/plain": [
       "tensor([ 1.3122, -0.7794, -2.2098,  1.4386,  0.7397,  0.0923, -0.1854, -0.8630,\n",
       "        -0.0248, -0.2795,  1.1550,  0.6538,  1.6579, -0.5971,  0.2951,  1.2531,\n",
       "        -0.1006], grad_fn=<SelectBackward0>)"
      ]
     },
     "execution_count": 216,
     "metadata": {},
     "output_type": "execute_result"
    }
   ],
   "source": [
    "# Check example\n",
    "comb[1]"
   ]
  },
  {
   "cell_type": "code",
   "execution_count": 217,
   "id": "15dca6a7",
   "metadata": {},
   "outputs": [
    {
     "data": {
      "text/plain": [
       "tensor([[-2.6805, -0.0000, -0.7513,  0.0000, -0.0000, -0.9538, -0.3439,  1.1489,\n",
       "          0.0000,  0.0000,  0.7446, -0.2750,  2.7632, -0.5399,  0.0000,  1.4911,\n",
       "          0.0000],\n",
       "        [ 2.1870, -1.2990, -0.0000,  0.0000,  1.2328,  0.1538, -0.0000, -0.0000,\n",
       "         -0.0000, -0.0000,  1.9250,  0.0000,  0.0000, -0.9952,  0.4918,  2.0885,\n",
       "         -0.1677],\n",
       "        [ 1.6560,  0.0000,  0.5324, -0.0000,  0.0000, -0.0000,  0.0561,  3.2048,\n",
       "         -0.0000, -0.2071, -0.0000, -0.5567,  2.7632, -0.9952,  0.0000,  2.0885,\n",
       "         -0.0000],\n",
       "        [ 0.0000, -0.0000, -0.5530,  0.0000,  1.2436,  5.0159,  3.4890,  1.6071,\n",
       "         -2.2746, -1.8941,  0.0000,  1.8131,  1.4588, -1.4950, -0.3541, -2.3399,\n",
       "          1.6170]], grad_fn=<MulBackward0>)"
      ]
     },
     "execution_count": 217,
     "metadata": {},
     "output_type": "execute_result"
    }
   ],
   "source": [
    "# Now pass through a dropout layer to get the assigned values (randomly zeros some of the elements of the tensor -\n",
    "# 40% neurons switched off)\n",
    "selfembdrop = nn.Dropout(.4)\n",
    "comb = selfembdrop(comb)\n",
    "comb "
   ]
  },
  {
   "cell_type": "code",
   "execution_count": 218,
   "id": "3b5d7950",
   "metadata": {},
   "outputs": [
    {
     "data": {
      "text/plain": [
       "tensor([ 2.1870, -1.2990, -0.0000,  0.0000,  1.2328,  0.1538, -0.0000, -0.0000,\n",
       "        -0.0000, -0.0000,  1.9250,  0.0000,  0.0000, -0.9952,  0.4918,  2.0885,\n",
       "        -0.1677], grad_fn=<SelectBackward0>)"
      ]
     },
     "execution_count": 218,
     "metadata": {},
     "output_type": "execute_result"
    }
   ],
   "source": [
    "# Look at example - note some values are zeroed\n",
    "comb[1]"
   ]
  },
  {
   "cell_type": "markdown",
   "id": "d1b19fd4",
   "metadata": {},
   "source": [
    "### Create the full model"
   ]
  },
  {
   "cell_type": "code",
   "execution_count": 219,
   "id": "66a78183",
   "metadata": {},
   "outputs": [],
   "source": [
    "class TabularModel(nn.Module):\n",
    "\n",
    "    def __init__(self, emb_szs, n_cont, out_sz, layers, p=0.5): # input embedding sizes, number of features, output and droput prob\n",
    "        super().__init__()                                      # instantiate inherited class\n",
    "        self.embeds = nn.ModuleList([nn.Embedding(ni, nf) for ni,nf in emb_szs]) # create the embeddings\n",
    "        self.emb_drop = nn.Dropout(p)                                            # apply dropout\n",
    "        self.bn_cont = nn.BatchNorm1d(n_cont)                                    # normalize data function\n",
    "        \n",
    "        layerlist = []   \n",
    "        n_emb = sum((nf for ni,nf in emb_szs))   # get total number of embeddings\n",
    "        n_in = n_emb + n_cont                    # total number of embeddings and the number of continuous features\n",
    "        \n",
    "        for i in layers:\n",
    "            layerlist.append(nn.Linear(n_in,i))  # set up layers - linear layer with n number of inputs\n",
    "            layerlist.append(nn.ReLU(inplace=True))  # add the activation function RELU\n",
    "            layerlist.append(nn.BatchNorm1d(i))      # append the normalisation process\n",
    "            layerlist.append(nn.Dropout(p))          # append a dropout\n",
    "            n_in = i                                 \n",
    "        layerlist.append(nn.Linear(layers[-1],out_sz))  \n",
    "            \n",
    "        self.layers = nn.Sequential(*layerlist) # combine the layers here\n",
    "    \n",
    "    def forward(self, x_cat, x_cont): # process embeddings and normalize continous. \n",
    "        embeddings = []\n",
    "        for i,e in enumerate(self.embeds): \n",
    "            embeddings.append(e(x_cat[:,i]))\n",
    "        x = torch.cat(embeddings, 1)   \n",
    "        x = self.emb_drop(x)           # apply dropout\n",
    "        \n",
    "        x_cont = self.bn_cont(x_cont)\n",
    "        x = torch.cat([x, x_cont], 1)\n",
    "        x = self.layers(x)\n",
    "        return x"
   ]
  },
  {
   "cell_type": "code",
   "execution_count": 220,
   "id": "87af33c5",
   "metadata": {},
   "outputs": [],
   "source": [
    "# input the embedding sizes, num of continuous variables, neurons in each layer and the dropout \n",
    "## NOTE THE OUTPUT SIZE IS 2 AS WE ARE PREDICTING FARE CLASS (set to however many classes in this case it is binary)\n",
    "torch.manual_seed(33)\n",
    "model = TabularModel(emb_szs, conts.shape[1], 2, [200,100], p=0.4) "
   ]
  },
  {
   "cell_type": "code",
   "execution_count": 221,
   "id": "5d823eea",
   "metadata": {},
   "outputs": [
    {
     "data": {
      "text/plain": [
       "TabularModel(\n",
       "  (embeds): ModuleList(\n",
       "    (0): Embedding(24, 12)\n",
       "    (1): Embedding(2, 1)\n",
       "    (2): Embedding(7, 4)\n",
       "  )\n",
       "  (emb_drop): Dropout(p=0.4, inplace=False)\n",
       "  (bn_cont): BatchNorm1d(6, eps=1e-05, momentum=0.1, affine=True, track_running_stats=True)\n",
       "  (layers): Sequential(\n",
       "    (0): Linear(in_features=23, out_features=200, bias=True)\n",
       "    (1): ReLU(inplace=True)\n",
       "    (2): BatchNorm1d(200, eps=1e-05, momentum=0.1, affine=True, track_running_stats=True)\n",
       "    (3): Dropout(p=0.4, inplace=False)\n",
       "    (4): Linear(in_features=200, out_features=100, bias=True)\n",
       "    (5): ReLU(inplace=True)\n",
       "    (6): BatchNorm1d(100, eps=1e-05, momentum=0.1, affine=True, track_running_stats=True)\n",
       "    (7): Dropout(p=0.4, inplace=False)\n",
       "    (8): Linear(in_features=100, out_features=2, bias=True)\n",
       "  )\n",
       ")"
      ]
     },
     "execution_count": 221,
     "metadata": {},
     "output_type": "execute_result"
    }
   ],
   "source": [
    "model"
   ]
  },
  {
   "cell_type": "markdown",
   "id": "00fa7211",
   "metadata": {},
   "source": [
    "### Loss function and optimizer"
   ]
  },
  {
   "cell_type": "code",
   "execution_count": 222,
   "id": "ed259130",
   "metadata": {},
   "outputs": [],
   "source": [
    "# Make sure the\n",
    "criterion = nn.CrossEntropyLoss()\n",
    "optimizer = torch.optim.Adam(model.parameters(), lr=0.001)"
   ]
  },
  {
   "cell_type": "code",
   "execution_count": 223,
   "id": "a7fe4211",
   "metadata": {},
   "outputs": [],
   "source": [
    "# Set batch size and train test seizes\n",
    "batch_size = 60000 # two batches of 60000 = 120000 total\n",
    "test_size = int(batch_size * .2) \n",
    "\n",
    "cat_train = cats[:batch_size-test_size] # split the categorical and continuous training and tests as they are separate\n",
    "cat_test = cats[batch_size-test_size:batch_size]\n",
    "con_train = conts[:batch_size-test_size]\n",
    "con_test = conts[batch_size-test_size:batch_size]\n",
    "y_train = y[:batch_size-test_size]\n",
    "y_test = y[batch_size-test_size:batch_size]"
   ]
  },
  {
   "cell_type": "code",
   "execution_count": 224,
   "id": "1f0726b6",
   "metadata": {},
   "outputs": [
    {
     "name": "stdout",
     "output_type": "stream",
     "text": [
      "48000 12000 48000 12000\n"
     ]
    }
   ],
   "source": [
    "print(len(cat_train),len(cat_test), len(y_train), len(y_test))"
   ]
  },
  {
   "cell_type": "markdown",
   "id": "61207505",
   "metadata": {},
   "source": [
    "### Train the model"
   ]
  },
  {
   "cell_type": "code",
   "execution_count": 225,
   "id": "2ebcc93e",
   "metadata": {},
   "outputs": [
    {
     "name": "stdout",
     "output_type": "stream",
     "text": [
      "epoch:   1  loss: 0.82039940\n",
      "epoch:  26  loss: 0.45657995\n",
      "epoch:  51  loss: 0.37876603\n",
      "epoch:  76  loss: 0.33071953\n",
      "epoch: 101  loss: 0.31457970\n",
      "epoch: 126  loss: 0.30257398\n",
      "epoch: 151  loss: 0.29072601\n",
      "epoch: 176  loss: 0.28200623\n",
      "epoch: 201  loss: 0.27385092\n",
      "epoch: 226  loss: 0.26793590\n",
      "epoch: 251  loss: 0.26311061\n",
      "epoch: 276  loss: 0.26095483\n",
      "epoch: 300  loss: 0.25704944\n",
      "\n",
      "Duration: 44 seconds\n"
     ]
    }
   ],
   "source": [
    "import time\n",
    "start_time = time.time()\n",
    "\n",
    "epochs = 300\n",
    "losses = []\n",
    "\n",
    "for i in range(epochs):\n",
    "    i+=1\n",
    "    y_pred = model(cat_train, con_train)\n",
    "    loss = criterion(y_pred, y_train)\n",
    "    losses.append(loss.item())\n",
    "    \n",
    "    # a neat trick to save screen space:\n",
    "    if i%25 == 1:\n",
    "        print(f'epoch: {i:3}  loss: {loss.item():10.8f}')\n",
    "\n",
    "    optimizer.zero_grad()\n",
    "    loss.backward()\n",
    "    optimizer.step()\n",
    "\n",
    "print(f'epoch: {i:3}  loss: {loss.item():10.8f}') # print the last line\n",
    "print(f'\\nDuration: {time.time() - start_time:.0f} seconds') # print the time elapsed"
   ]
  },
  {
   "cell_type": "code",
   "execution_count": 227,
   "id": "2f71118d",
   "metadata": {},
   "outputs": [
    {
     "data": {
      "image/png": "[encoded data removed]",
      "text/plain": [
       "<Figure size 432x288 with 1 Axes>"
      ]
     },
     "metadata": {},
     "output_type": "display_data"
    }
   ],
   "source": [
    "plt.plot(range(epochs), losses)\n",
    "plt.ylabel('CrossEntropy Loss')\n",
    "plt.xlabel('epoch');"
   ]
  },
  {
   "cell_type": "code",
   "execution_count": 232,
   "id": "e1b16e69",
   "metadata": {},
   "outputs": [
    {
     "name": "stdout",
     "output_type": "stream",
     "text": [
      "CE Loss: 0.25340295\n"
     ]
    }
   ],
   "source": [
    "# TO EVALUATE THE ENTIRE TEST SET\n",
    "with torch.no_grad():\n",
    "    y_val = model(cat_test, con_test)\n",
    "    loss = criterion(y_val, y_test)\n",
    "print(f'CE Loss: {loss:.8f}')"
   ]
  },
  {
   "cell_type": "code",
   "execution_count": 231,
   "id": "59b6fc1a",
   "metadata": {},
   "outputs": [
    {
     "name": "stdout",
     "output_type": "stream",
     "text": [
      "MODEL OUTPUT               ARGMAX  Y_TEST\n",
      "tensor([ 2.4274, -1.9431])    0      0   \n",
      "tensor([-3.3688,  1.6466])    1      0   \n",
      "tensor([ 3.1118, -1.5112])    0      0   \n",
      "tensor([-1.7416,  1.4735])    1      1   \n",
      "tensor([ 1.9493, -1.9010])    0      0   \n",
      "tensor([ 1.7508, -1.4819])    0      0   \n",
      "tensor([ 2.9122, -1.0830])    0      0   \n",
      "tensor([-3.4529,  0.5697])    1      1   \n",
      "tensor([ 1.4423, -1.8050])    0      0   \n",
      "tensor([-1.5679,  0.7947])    1      1   \n",
      "tensor([ 1.5853, -1.8300])    0      0   \n",
      "tensor([ 2.0831, -1.2817])    0      0   \n",
      "tensor([ 2.1082, -0.7403])    0      0   \n",
      "tensor([-1.1629,  0.7687])    1      1   \n",
      "tensor([ 1.9747, -2.2853])    0      0   \n",
      "tensor([-3.8920,  1.4832])    1      1   \n",
      "tensor([ 2.9735, -2.2401])    0      1   \n",
      "tensor([ 2.3500, -1.5138])    0      0   \n",
      "tensor([ 0.6120, -0.3092])    0      0   \n",
      "tensor([ 2.5415, -2.3677])    0      0   \n",
      "tensor([-2.6210,  1.4330])    1      1   \n",
      "tensor([ 0.5590, -0.2121])    0      1   \n",
      "tensor([-3.4200,  1.9321])    1      1   \n",
      "tensor([-2.5016,  1.5663])    1      1   \n",
      "tensor([-5.9775,  2.8144])    1      1   \n",
      "tensor([ 1.4472, -1.4869])    0      0   \n",
      "tensor([ 2.2097, -1.4838])    0      0   \n",
      "tensor([ 1.8812, -1.2011])    0      0   \n",
      "tensor([-0.8818,  1.3014])    1      1   \n",
      "tensor([ 1.5579, -1.1774])    0      0   \n",
      "tensor([ 2.5255, -1.7616])    0      0   \n",
      "tensor([-5.5823,  6.2930])    1      1   \n",
      "tensor([-1.8889,  0.8108])    1      1   \n",
      "tensor([-2.9147,  0.9384])    1      1   \n",
      "tensor([ 1.4381, -1.7511])    0      0   \n",
      "tensor([ 0.6654, -0.9291])    0      0   \n",
      "tensor([-5.1010,  2.0585])    1      1   \n",
      "tensor([ 1.2728, -1.0661])    0      1   \n",
      "tensor([ 0.8927, -0.5648])    0      1   \n",
      "tensor([ 2.7941, -1.6033])    0      0   \n",
      "tensor([ 0.1976, -0.1951])    0      0   \n",
      "tensor([ 1.2077, -1.6118])    0      0   \n",
      "tensor([-1.9417,  1.7286])    1      1   \n",
      "tensor([ 2.3233, -1.4379])    0      0   \n",
      "tensor([-0.6965, -0.8684])    0      0   \n",
      "tensor([-0.5200,  0.0811])    1      1   \n",
      "tensor([-5.0144,  2.2510])    1      1   \n",
      "tensor([ 1.7683, -1.7954])    0      0   \n",
      "tensor([ 1.5127, -1.8690])    0      0   \n",
      "tensor([ 0.0938, -0.7511])    0      0   \n",
      "\n",
      "45 out of 50 = 90.00% correct\n"
     ]
    }
   ],
   "source": [
    "rows = 50\n",
    "correct = 0\n",
    "print(f'{\"MODEL OUTPUT\":26} ARGMAX  Y_TEST')\n",
    "for i in range(rows):\n",
    "    print(f'{str(y_val[i]):26} {y_val[i].argmax():^7}{y_test[i]:^7}')\n",
    "    if y_val[i].argmax().item() == y_test[i]:\n",
    "        correct += 1\n",
    "print(f'\\n{correct} out of {rows} = {100*correct/rows:.2f}% correct')"
   ]
  },
  {
   "cell_type": "code",
   "execution_count": 233,
   "id": "cb2c0c8a",
   "metadata": {},
   "outputs": [],
   "source": [
    "# Saving the model\n",
    "# torch.save(model.state_dict(), 'TaxiFareClssModel.pt')"
   ]
  }
 ],
 "metadata": {
  "kernelspec": {
   "display_name": "Python 3 (ipykernel)",
   "language": "python",
   "name": "python3"
  },
  "language_info": {
   "codemirror_mode": {
    "name": "ipython",
    "version": 3
   },
   "file_extension": ".py",
   "mimetype": "text/x-python",
   "name": "python",
   "nbconvert_exporter": "python",
   "pygments_lexer": "ipython3",
   "version": "3.8.12"
  }
 },
 "nbformat": 4,
 "nbformat_minor": 5
}
