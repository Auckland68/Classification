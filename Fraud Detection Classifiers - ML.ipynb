{
 "cells": [
  {
   "cell_type": "markdown",
   "metadata": {},
   "source": [
    "# Fraud Detection Analysis and Prediction with ML Classifers"
   ]
  },
  {
   "cell_type": "markdown",
   "metadata": {},
   "source": [
    "DATA SOURCE: https://www.kaggle.com/ealaxi/paysim1\n",
    "\n",
    "* step - maps a unit of time in the real world. In this case 1 step is 1 hour of time. Total steps 744 (30 days simulation).\n",
    "* type - CASH-IN, CASH-OUT, DEBIT, PAYMENT and TRANSFER.\n",
    "* amount -amount of the transaction in local currency.\n",
    "* nameOrig - customer who started the transaction\n",
    "* oldbalanceOrg - initial balance before the transaction\n",
    "* newbalanceOrig - new balance after the transaction\n",
    "* nameDest - customer who is the recipient of the transaction\n",
    "* oldbalanceDest - initial balance recipient before the transaction. Note that there is not information for customers that start with M (Merchants).\n",
    "* newbalanceDest - new balance recipient after the transaction. Note that there is not information for customers that start with M (Merchants).\n",
    "* isFraud - This is the transactions made by the fraudulent agents inside the simulation. In this specific dataset the fraudulent behavior of the agents aims to profit by taking control or customers accounts and try to empty the funds by transferring to another account and then cashing out of the system.\n",
    "* isFlaggedFraud - The business model aims to control massive transfers from one account to another and flags illegal attempts. An illegal attempt in this dataset is an attempt to transfer more than 200.000 in a single transaction."
   ]
  },
  {
   "cell_type": "code",
   "execution_count": 212,
   "metadata": {},
   "outputs": [],
   "source": [
    "import pandas as pd\n",
    "import matplotlib.pyplot as plt\n",
    "import seaborn as sns\n",
    "sns.set(style = \"darkgrid\")\n",
    "import numpy as np\n",
    "\n",
    "from sklearn.model_selection import train_test_split\n",
    "from sklearn.linear_model import LogisticRegression\n",
    "from sklearn.naive_bayes import GaussianNB\n",
    "from sklearn.svm import SVC\n",
    "from sklearn.ensemble import RandomForestClassifier\n",
    "from sklearn.metrics import accuracy_score,precision_score,recall_score\n",
    "from sklearn.metrics import auc,roc_curve"
   ]
  },
  {
   "cell_type": "code",
   "execution_count": 148,
   "metadata": {},
   "outputs": [
    {
     "data": {
      "text/html": [
       "<div>\n",
       "<style scoped>\n",
       "    .dataframe tbody tr th:only-of-type {\n",
       "        vertical-align: middle;\n",
       "    }\n",
       "\n",
       "    .dataframe tbody tr th {\n",
       "        vertical-align: top;\n",
       "    }\n",
       "\n",
       "    .dataframe thead th {\n",
       "        text-align: right;\n",
       "    }\n",
       "</style>\n",
       "<table border=\"1\" class=\"dataframe\">\n",
       "  <thead>\n",
       "    <tr style=\"text-align: right;\">\n",
       "      <th></th>\n",
       "      <th>index</th>\n",
       "      <th>step</th>\n",
       "      <th>type</th>\n",
       "      <th>amount</th>\n",
       "      <th>nameOrig</th>\n",
       "      <th>oldbalanceOrg</th>\n",
       "      <th>newbalanceOrig</th>\n",
       "      <th>nameDest</th>\n",
       "      <th>oldbalanceDest</th>\n",
       "      <th>newbalanceDest</th>\n",
       "      <th>isFraud</th>\n",
       "      <th>isFlaggedFraud</th>\n",
       "    </tr>\n",
       "  </thead>\n",
       "  <tbody>\n",
       "    <tr>\n",
       "      <th>0</th>\n",
       "      <td>1577509</td>\n",
       "      <td>155</td>\n",
       "      <td>CASH_OUT</td>\n",
       "      <td>427818.23</td>\n",
       "      <td>C1431817875</td>\n",
       "      <td>198219.00</td>\n",
       "      <td>0.00</td>\n",
       "      <td>C2131020093</td>\n",
       "      <td>0.00</td>\n",
       "      <td>427818.23</td>\n",
       "      <td>0</td>\n",
       "      <td>0</td>\n",
       "    </tr>\n",
       "    <tr>\n",
       "      <th>1</th>\n",
       "      <td>3869859</td>\n",
       "      <td>283</td>\n",
       "      <td>CASH_IN</td>\n",
       "      <td>68154.77</td>\n",
       "      <td>C397915380</td>\n",
       "      <td>2884459.21</td>\n",
       "      <td>2952613.98</td>\n",
       "      <td>C105277746</td>\n",
       "      <td>1030035.29</td>\n",
       "      <td>961880.52</td>\n",
       "      <td>0</td>\n",
       "      <td>0</td>\n",
       "    </tr>\n",
       "    <tr>\n",
       "      <th>2</th>\n",
       "      <td>5516324</td>\n",
       "      <td>380</td>\n",
       "      <td>CASH_OUT</td>\n",
       "      <td>80828.54</td>\n",
       "      <td>C809484944</td>\n",
       "      <td>0.00</td>\n",
       "      <td>0.00</td>\n",
       "      <td>C226553176</td>\n",
       "      <td>5149991.49</td>\n",
       "      <td>5230820.04</td>\n",
       "      <td>0</td>\n",
       "      <td>0</td>\n",
       "    </tr>\n",
       "    <tr>\n",
       "      <th>3</th>\n",
       "      <td>5490462</td>\n",
       "      <td>380</td>\n",
       "      <td>TRANSFER</td>\n",
       "      <td>106069.89</td>\n",
       "      <td>C1857104283</td>\n",
       "      <td>301258.00</td>\n",
       "      <td>195188.11</td>\n",
       "      <td>C1759851095</td>\n",
       "      <td>263816.83</td>\n",
       "      <td>369886.72</td>\n",
       "      <td>0</td>\n",
       "      <td>0</td>\n",
       "    </tr>\n",
       "    <tr>\n",
       "      <th>4</th>\n",
       "      <td>5606765</td>\n",
       "      <td>394</td>\n",
       "      <td>PAYMENT</td>\n",
       "      <td>34530.86</td>\n",
       "      <td>C1774638089</td>\n",
       "      <td>200755.00</td>\n",
       "      <td>166224.14</td>\n",
       "      <td>M1074240731</td>\n",
       "      <td>0.00</td>\n",
       "      <td>0.00</td>\n",
       "      <td>0</td>\n",
       "      <td>0</td>\n",
       "    </tr>\n",
       "  </tbody>\n",
       "</table>\n",
       "</div>"
      ],
      "text/plain": [
       "     index  step      type     amount     nameOrig  oldbalanceOrg  \\\n",
       "0  1577509   155  CASH_OUT  427818.23  C1431817875      198219.00   \n",
       "1  3869859   283   CASH_IN   68154.77   C397915380     2884459.21   \n",
       "2  5516324   380  CASH_OUT   80828.54   C809484944           0.00   \n",
       "3  5490462   380  TRANSFER  106069.89  C1857104283      301258.00   \n",
       "4  5606765   394   PAYMENT   34530.86  C1774638089      200755.00   \n",
       "\n",
       "   newbalanceOrig     nameDest  oldbalanceDest  newbalanceDest  isFraud  \\\n",
       "0            0.00  C2131020093            0.00       427818.23        0   \n",
       "1      2952613.98   C105277746      1030035.29       961880.52        0   \n",
       "2            0.00   C226553176      5149991.49      5230820.04        0   \n",
       "3       195188.11  C1759851095       263816.83       369886.72        0   \n",
       "4       166224.14  M1074240731            0.00            0.00        0   \n",
       "\n",
       "   isFlaggedFraud  \n",
       "0               0  \n",
       "1               0  \n",
       "2               0  \n",
       "3               0  \n",
       "4               0  "
      ]
     },
     "execution_count": 148,
     "metadata": {},
     "output_type": "execute_result"
    }
   ],
   "source": [
    "df = pd.read_csv(\"datasets/sampled_aml_df_3.csv\")\n",
    "df.head()"
   ]
  },
  {
   "cell_type": "code",
   "execution_count": 149,
   "metadata": {},
   "outputs": [
    {
     "data": {
      "text/plain": [
       "(192500, 12)"
      ]
     },
     "execution_count": 149,
     "metadata": {},
     "output_type": "execute_result"
    }
   ],
   "source": [
    "df.shape"
   ]
  },
  {
   "cell_type": "code",
   "execution_count": 150,
   "metadata": {},
   "outputs": [
    {
     "data": {
      "text/plain": [
       "0"
      ]
     },
     "execution_count": 150,
     "metadata": {},
     "output_type": "execute_result"
    }
   ],
   "source": [
    "# Check for missing values\n",
    "df.isnull().sum().sum()"
   ]
  },
  {
   "cell_type": "code",
   "execution_count": 151,
   "metadata": {},
   "outputs": [
    {
     "name": "stdout",
     "output_type": "stream",
     "text": [
      "<class 'pandas.core.frame.DataFrame'>\n",
      "RangeIndex: 192500 entries, 0 to 192499\n",
      "Data columns (total 12 columns):\n",
      " #   Column          Non-Null Count   Dtype  \n",
      "---  ------          --------------   -----  \n",
      " 0   index           192500 non-null  int64  \n",
      " 1   step            192500 non-null  int64  \n",
      " 2   type            192500 non-null  object \n",
      " 3   amount          192500 non-null  float64\n",
      " 4   nameOrig        192500 non-null  object \n",
      " 5   oldbalanceOrg   192500 non-null  float64\n",
      " 6   newbalanceOrig  192500 non-null  float64\n",
      " 7   nameDest        192500 non-null  object \n",
      " 8   oldbalanceDest  192500 non-null  float64\n",
      " 9   newbalanceDest  192500 non-null  float64\n",
      " 10  isFraud         192500 non-null  int64  \n",
      " 11  isFlaggedFraud  192500 non-null  int64  \n",
      "dtypes: float64(5), int64(4), object(3)\n",
      "memory usage: 17.6+ MB\n"
     ]
    }
   ],
   "source": [
    "df.info()"
   ]
  },
  {
   "cell_type": "markdown",
   "metadata": {},
   "source": [
    "# Data Analysis"
   ]
  },
  {
   "cell_type": "code",
   "execution_count": 152,
   "metadata": {},
   "outputs": [
    {
     "name": "stdout",
     "output_type": "stream",
     "text": [
      "192494\n",
      "168929\n"
     ]
    }
   ],
   "source": [
    "# Investigate identifier columns (large number of unique values = not much predictive power)\n",
    "print(df[\"nameOrig\"].nunique())\n",
    "print(df[\"nameDest\"].nunique())"
   ]
  },
  {
   "cell_type": "code",
   "execution_count": 153,
   "metadata": {},
   "outputs": [],
   "source": [
    "# Drop columns not required\n",
    "df.drop([\"nameOrig\",\"nameDest\",\"index\"],axis = 1, inplace = True)"
   ]
  },
  {
   "cell_type": "code",
   "execution_count": 154,
   "metadata": {},
   "outputs": [
    {
     "data": {
      "text/html": [
       "<div>\n",
       "<style scoped>\n",
       "    .dataframe tbody tr th:only-of-type {\n",
       "        vertical-align: middle;\n",
       "    }\n",
       "\n",
       "    .dataframe tbody tr th {\n",
       "        vertical-align: top;\n",
       "    }\n",
       "\n",
       "    .dataframe thead th {\n",
       "        text-align: right;\n",
       "    }\n",
       "</style>\n",
       "<table border=\"1\" class=\"dataframe\">\n",
       "  <thead>\n",
       "    <tr style=\"text-align: right;\">\n",
       "      <th></th>\n",
       "      <th>step</th>\n",
       "      <th>type</th>\n",
       "      <th>amount</th>\n",
       "      <th>oldbalanceOrg</th>\n",
       "      <th>newbalanceOrig</th>\n",
       "      <th>oldbalanceDest</th>\n",
       "      <th>newbalanceDest</th>\n",
       "      <th>isFraud</th>\n",
       "      <th>isFlaggedFraud</th>\n",
       "    </tr>\n",
       "  </thead>\n",
       "  <tbody>\n",
       "    <tr>\n",
       "      <th>124810</th>\n",
       "      <td>331</td>\n",
       "      <td>CASH_OUT</td>\n",
       "      <td>95824.94</td>\n",
       "      <td>29711.00</td>\n",
       "      <td>0.00</td>\n",
       "      <td>0.00</td>\n",
       "      <td>95824.94</td>\n",
       "      <td>0</td>\n",
       "      <td>0</td>\n",
       "    </tr>\n",
       "    <tr>\n",
       "      <th>128040</th>\n",
       "      <td>329</td>\n",
       "      <td>CASH_IN</td>\n",
       "      <td>285784.29</td>\n",
       "      <td>15765528.04</td>\n",
       "      <td>16051312.33</td>\n",
       "      <td>1339199.64</td>\n",
       "      <td>1098552.39</td>\n",
       "      <td>0</td>\n",
       "      <td>0</td>\n",
       "    </tr>\n",
       "    <tr>\n",
       "      <th>61892</th>\n",
       "      <td>40</td>\n",
       "      <td>CASH_OUT</td>\n",
       "      <td>215841.88</td>\n",
       "      <td>0.00</td>\n",
       "      <td>0.00</td>\n",
       "      <td>1375232.40</td>\n",
       "      <td>1591074.28</td>\n",
       "      <td>0</td>\n",
       "      <td>0</td>\n",
       "    </tr>\n",
       "    <tr>\n",
       "      <th>156156</th>\n",
       "      <td>328</td>\n",
       "      <td>CASH_OUT</td>\n",
       "      <td>327842.46</td>\n",
       "      <td>25946.00</td>\n",
       "      <td>0.00</td>\n",
       "      <td>0.00</td>\n",
       "      <td>327842.46</td>\n",
       "      <td>0</td>\n",
       "      <td>0</td>\n",
       "    </tr>\n",
       "    <tr>\n",
       "      <th>178354</th>\n",
       "      <td>258</td>\n",
       "      <td>PAYMENT</td>\n",
       "      <td>10313.28</td>\n",
       "      <td>7239.00</td>\n",
       "      <td>0.00</td>\n",
       "      <td>0.00</td>\n",
       "      <td>0.00</td>\n",
       "      <td>0</td>\n",
       "      <td>0</td>\n",
       "    </tr>\n",
       "  </tbody>\n",
       "</table>\n",
       "</div>"
      ],
      "text/plain": [
       "        step      type     amount  oldbalanceOrg  newbalanceOrig  \\\n",
       "124810   331  CASH_OUT   95824.94       29711.00            0.00   \n",
       "128040   329   CASH_IN  285784.29    15765528.04     16051312.33   \n",
       "61892     40  CASH_OUT  215841.88           0.00            0.00   \n",
       "156156   328  CASH_OUT  327842.46       25946.00            0.00   \n",
       "178354   258   PAYMENT   10313.28        7239.00            0.00   \n",
       "\n",
       "        oldbalanceDest  newbalanceDest  isFraud  isFlaggedFraud  \n",
       "124810            0.00        95824.94        0               0  \n",
       "128040      1339199.64      1098552.39        0               0  \n",
       "61892       1375232.40      1591074.28        0               0  \n",
       "156156            0.00       327842.46        0               0  \n",
       "178354            0.00            0.00        0               0  "
      ]
     },
     "execution_count": 154,
     "metadata": {},
     "output_type": "execute_result"
    }
   ],
   "source": [
    "df.sample(5)"
   ]
  },
  {
   "cell_type": "code",
   "execution_count": 155,
   "metadata": {},
   "outputs": [
    {
     "data": {
      "text/html": [
       "<div>\n",
       "<style scoped>\n",
       "    .dataframe tbody tr th:only-of-type {\n",
       "        vertical-align: middle;\n",
       "    }\n",
       "\n",
       "    .dataframe tbody tr th {\n",
       "        vertical-align: top;\n",
       "    }\n",
       "\n",
       "    .dataframe thead th {\n",
       "        text-align: right;\n",
       "    }\n",
       "</style>\n",
       "<table border=\"1\" class=\"dataframe\">\n",
       "  <thead>\n",
       "    <tr style=\"text-align: right;\">\n",
       "      <th></th>\n",
       "      <th>amount</th>\n",
       "      <th>oldbalanceOrg</th>\n",
       "      <th>newbalanceOrig</th>\n",
       "      <th>oldbalanceDest</th>\n",
       "      <th>newbalanceDest</th>\n",
       "    </tr>\n",
       "  </thead>\n",
       "  <tbody>\n",
       "    <tr>\n",
       "      <th>count</th>\n",
       "      <td>1.925000e+05</td>\n",
       "      <td>1.925000e+05</td>\n",
       "      <td>1.925000e+05</td>\n",
       "      <td>1.925000e+05</td>\n",
       "      <td>1.925000e+05</td>\n",
       "    </tr>\n",
       "    <tr>\n",
       "      <th>mean</th>\n",
       "      <td>2.261676e+05</td>\n",
       "      <td>8.616604e+05</td>\n",
       "      <td>8.270867e+05</td>\n",
       "      <td>1.084274e+06</td>\n",
       "      <td>1.230771e+06</td>\n",
       "    </tr>\n",
       "    <tr>\n",
       "      <th>std</th>\n",
       "      <td>7.720697e+05</td>\n",
       "      <td>2.912266e+06</td>\n",
       "      <td>2.887263e+06</td>\n",
       "      <td>3.297716e+06</td>\n",
       "      <td>3.575349e+06</td>\n",
       "    </tr>\n",
       "    <tr>\n",
       "      <th>min</th>\n",
       "      <td>0.000000e+00</td>\n",
       "      <td>0.000000e+00</td>\n",
       "      <td>0.000000e+00</td>\n",
       "      <td>0.000000e+00</td>\n",
       "      <td>0.000000e+00</td>\n",
       "    </tr>\n",
       "    <tr>\n",
       "      <th>25%</th>\n",
       "      <td>1.401661e+04</td>\n",
       "      <td>0.000000e+00</td>\n",
       "      <td>0.000000e+00</td>\n",
       "      <td>0.000000e+00</td>\n",
       "      <td>0.000000e+00</td>\n",
       "    </tr>\n",
       "    <tr>\n",
       "      <th>50%</th>\n",
       "      <td>8.060089e+04</td>\n",
       "      <td>1.696019e+04</td>\n",
       "      <td>0.000000e+00</td>\n",
       "      <td>1.144710e+05</td>\n",
       "      <td>2.091728e+05</td>\n",
       "    </tr>\n",
       "    <tr>\n",
       "      <th>75%</th>\n",
       "      <td>2.188217e+05</td>\n",
       "      <td>1.336372e+05</td>\n",
       "      <td>1.290969e+05</td>\n",
       "      <td>9.127214e+05</td>\n",
       "      <td>1.115385e+06</td>\n",
       "    </tr>\n",
       "    <tr>\n",
       "      <th>max</th>\n",
       "      <td>6.988673e+07</td>\n",
       "      <td>5.958504e+07</td>\n",
       "      <td>4.958504e+07</td>\n",
       "      <td>2.511150e+08</td>\n",
       "      <td>2.506381e+08</td>\n",
       "    </tr>\n",
       "  </tbody>\n",
       "</table>\n",
       "</div>"
      ],
      "text/plain": [
       "             amount  oldbalanceOrg  newbalanceOrig  oldbalanceDest  \\\n",
       "count  1.925000e+05   1.925000e+05    1.925000e+05    1.925000e+05   \n",
       "mean   2.261676e+05   8.616604e+05    8.270867e+05    1.084274e+06   \n",
       "std    7.720697e+05   2.912266e+06    2.887263e+06    3.297716e+06   \n",
       "min    0.000000e+00   0.000000e+00    0.000000e+00    0.000000e+00   \n",
       "25%    1.401661e+04   0.000000e+00    0.000000e+00    0.000000e+00   \n",
       "50%    8.060089e+04   1.696019e+04    0.000000e+00    1.144710e+05   \n",
       "75%    2.188217e+05   1.336372e+05    1.290969e+05    9.127214e+05   \n",
       "max    6.988673e+07   5.958504e+07    4.958504e+07    2.511150e+08   \n",
       "\n",
       "       newbalanceDest  \n",
       "count    1.925000e+05  \n",
       "mean     1.230771e+06  \n",
       "std      3.575349e+06  \n",
       "min      0.000000e+00  \n",
       "25%      0.000000e+00  \n",
       "50%      2.091728e+05  \n",
       "75%      1.115385e+06  \n",
       "max      2.506381e+08  "
      ]
     },
     "execution_count": 155,
     "metadata": {},
     "output_type": "execute_result"
    }
   ],
   "source": [
    "df.describe(include = [\"float\"])"
   ]
  },
  {
   "cell_type": "markdown",
   "metadata": {},
   "source": [
    "## How many items are labelled as fraudulent?"
   ]
  },
  {
   "cell_type": "code",
   "execution_count": 156,
   "metadata": {},
   "outputs": [
    {
     "data": {
      "text/plain": [
       "0    185000\n",
       "1      7500\n",
       "Name: isFraud, dtype: int64"
      ]
     },
     "execution_count": 156,
     "metadata": {},
     "output_type": "execute_result"
    }
   ],
   "source": [
    "df[\"isFraud\"].value_counts()"
   ]
  },
  {
   "cell_type": "code",
   "execution_count": 157,
   "metadata": {},
   "outputs": [
    {
     "data": {
      "image/png": "[encoded data removed]",
      "text/plain": [
       "<Figure size 432x288 with 1 Axes>"
      ]
     },
     "metadata": {},
     "output_type": "display_data"
    }
   ],
   "source": [
    "sns.countplot(data = df, x = \"isFraud\")\n",
    "plt.title(\"Transactions Tagged as Fraudulent or Non-fraudulent\");"
   ]
  },
  {
   "cell_type": "markdown",
   "metadata": {},
   "source": [
    "Dataset is very unbalanced"
   ]
  },
  {
   "cell_type": "markdown",
   "metadata": {},
   "source": [
    "## How many items are flagged as fraud in the dataset?"
   ]
  },
  {
   "cell_type": "code",
   "execution_count": 158,
   "metadata": {},
   "outputs": [
    {
     "data": {
      "text/plain": [
       "0    192484\n",
       "1        16\n",
       "Name: isFlaggedFraud, dtype: int64"
      ]
     },
     "execution_count": 158,
     "metadata": {},
     "output_type": "execute_result"
    }
   ],
   "source": [
    "df[\"isFlaggedFraud\"].value_counts()"
   ]
  },
  {
   "cell_type": "markdown",
   "metadata": {},
   "source": [
    "Very few items flagged as fraud by the bank system based on the size of transactions"
   ]
  },
  {
   "cell_type": "markdown",
   "metadata": {},
   "source": [
    "## Comparison of Flagged and Non-Flagged Transactions by whether they are Fraudulent"
   ]
  },
  {
   "cell_type": "code",
   "execution_count": 159,
   "metadata": {},
   "outputs": [
    {
     "data": {
      "image/png": "[encoded data removed]",
      "text/plain": [
       "<Figure size 768.675x360 with 2 Axes>"
      ]
     },
     "metadata": {},
     "output_type": "display_data"
    }
   ],
   "source": [
    "sns.catplot(data = df, x = \"type\", y = \"amount\", hue = \"isFraud\",col = \"isFlaggedFraud\");"
   ]
  },
  {
   "cell_type": "markdown",
   "metadata": {},
   "source": [
    "* For those were not flagged as fraud by the bank but were fraudulent, most were cash_out or transfers\n",
    "* For fraudulent transactions that were labelled by the bank as such, all were transfers.\n",
    "* With so few fraudulent items flagged by the system, this feature is not useful for prediction and can be dropped"
   ]
  },
  {
   "cell_type": "code",
   "execution_count": 160,
   "metadata": {},
   "outputs": [
    {
     "data": {
      "image/png": "[encoded data removed]",
      "text/plain": [
       "<Figure size 432x288 with 1 Axes>"
      ]
     },
     "metadata": {},
     "output_type": "display_data"
    }
   ],
   "source": [
    "sns.countplot(data = df, x = \"type\", hue = \"isFraud\");"
   ]
  },
  {
   "cell_type": "markdown",
   "metadata": {},
   "source": [
    "The fraudulent transactions are either cash out or transfers"
   ]
  },
  {
   "cell_type": "code",
   "execution_count": 161,
   "metadata": {},
   "outputs": [],
   "source": [
    "df.drop(columns = [\"isFlaggedFraud\"],axis = 1, inplace = True)"
   ]
  },
  {
   "cell_type": "code",
   "execution_count": 162,
   "metadata": {},
   "outputs": [
    {
     "data": {
      "text/html": [
       "<div>\n",
       "<style scoped>\n",
       "    .dataframe tbody tr th:only-of-type {\n",
       "        vertical-align: middle;\n",
       "    }\n",
       "\n",
       "    .dataframe tbody tr th {\n",
       "        vertical-align: top;\n",
       "    }\n",
       "\n",
       "    .dataframe thead th {\n",
       "        text-align: right;\n",
       "    }\n",
       "</style>\n",
       "<table border=\"1\" class=\"dataframe\">\n",
       "  <thead>\n",
       "    <tr style=\"text-align: right;\">\n",
       "      <th></th>\n",
       "      <th>step</th>\n",
       "      <th>type</th>\n",
       "      <th>amount</th>\n",
       "      <th>oldbalanceOrg</th>\n",
       "      <th>newbalanceOrig</th>\n",
       "      <th>oldbalanceDest</th>\n",
       "      <th>newbalanceDest</th>\n",
       "      <th>isFraud</th>\n",
       "    </tr>\n",
       "  </thead>\n",
       "  <tbody>\n",
       "    <tr>\n",
       "      <th>0</th>\n",
       "      <td>155</td>\n",
       "      <td>CASH_OUT</td>\n",
       "      <td>427818.23</td>\n",
       "      <td>198219.00</td>\n",
       "      <td>0.00</td>\n",
       "      <td>0.00</td>\n",
       "      <td>427818.23</td>\n",
       "      <td>0</td>\n",
       "    </tr>\n",
       "    <tr>\n",
       "      <th>1</th>\n",
       "      <td>283</td>\n",
       "      <td>CASH_IN</td>\n",
       "      <td>68154.77</td>\n",
       "      <td>2884459.21</td>\n",
       "      <td>2952613.98</td>\n",
       "      <td>1030035.29</td>\n",
       "      <td>961880.52</td>\n",
       "      <td>0</td>\n",
       "    </tr>\n",
       "    <tr>\n",
       "      <th>2</th>\n",
       "      <td>380</td>\n",
       "      <td>CASH_OUT</td>\n",
       "      <td>80828.54</td>\n",
       "      <td>0.00</td>\n",
       "      <td>0.00</td>\n",
       "      <td>5149991.49</td>\n",
       "      <td>5230820.04</td>\n",
       "      <td>0</td>\n",
       "    </tr>\n",
       "    <tr>\n",
       "      <th>3</th>\n",
       "      <td>380</td>\n",
       "      <td>TRANSFER</td>\n",
       "      <td>106069.89</td>\n",
       "      <td>301258.00</td>\n",
       "      <td>195188.11</td>\n",
       "      <td>263816.83</td>\n",
       "      <td>369886.72</td>\n",
       "      <td>0</td>\n",
       "    </tr>\n",
       "    <tr>\n",
       "      <th>4</th>\n",
       "      <td>394</td>\n",
       "      <td>PAYMENT</td>\n",
       "      <td>34530.86</td>\n",
       "      <td>200755.00</td>\n",
       "      <td>166224.14</td>\n",
       "      <td>0.00</td>\n",
       "      <td>0.00</td>\n",
       "      <td>0</td>\n",
       "    </tr>\n",
       "  </tbody>\n",
       "</table>\n",
       "</div>"
      ],
      "text/plain": [
       "   step      type     amount  oldbalanceOrg  newbalanceOrig  oldbalanceDest  \\\n",
       "0   155  CASH_OUT  427818.23      198219.00            0.00            0.00   \n",
       "1   283   CASH_IN   68154.77     2884459.21      2952613.98      1030035.29   \n",
       "2   380  CASH_OUT   80828.54           0.00            0.00      5149991.49   \n",
       "3   380  TRANSFER  106069.89      301258.00       195188.11       263816.83   \n",
       "4   394   PAYMENT   34530.86      200755.00       166224.14            0.00   \n",
       "\n",
       "   newbalanceDest  isFraud  \n",
       "0       427818.23        0  \n",
       "1       961880.52        0  \n",
       "2      5230820.04        0  \n",
       "3       369886.72        0  \n",
       "4            0.00        0  "
      ]
     },
     "execution_count": 162,
     "metadata": {},
     "output_type": "execute_result"
    }
   ],
   "source": [
    "df.head()"
   ]
  },
  {
   "cell_type": "markdown",
   "metadata": {},
   "source": [
    "## Transactions over Time"
   ]
  },
  {
   "cell_type": "code",
   "execution_count": 163,
   "metadata": {},
   "outputs": [
    {
     "data": {
      "image/png": "[encoded data removed]",
      "text/plain": [
       "<Figure size 432x288 with 1 Axes>"
      ]
     },
     "metadata": {},
     "output_type": "display_data"
    }
   ],
   "source": [
    "sns.histplot(data = df, x = \"step\", kde = True)\n",
    "plt.title(\"Transactions over Time\");"
   ]
  },
  {
   "cell_type": "markdown",
   "metadata": {},
   "source": [
    "The simulation was run over 30 days (1 month) with each step representing one hour of time.\n",
    "\n",
    "Most transactions occur at the start of the period then drop and rise again mid-way through. Towards the end of the period, the number of transactions is relatively low.\n"
   ]
  },
  {
   "cell_type": "markdown",
   "metadata": {},
   "source": [
    "### How does the pattern look over periods of 24 hours?"
   ]
  },
  {
   "cell_type": "code",
   "execution_count": 164,
   "metadata": {},
   "outputs": [
    {
     "data": {
      "text/html": [
       "<div>\n",
       "<style scoped>\n",
       "    .dataframe tbody tr th:only-of-type {\n",
       "        vertical-align: middle;\n",
       "    }\n",
       "\n",
       "    .dataframe tbody tr th {\n",
       "        vertical-align: top;\n",
       "    }\n",
       "\n",
       "    .dataframe thead th {\n",
       "        text-align: right;\n",
       "    }\n",
       "</style>\n",
       "<table border=\"1\" class=\"dataframe\">\n",
       "  <thead>\n",
       "    <tr style=\"text-align: right;\">\n",
       "      <th></th>\n",
       "      <th>step</th>\n",
       "      <th>type</th>\n",
       "      <th>amount</th>\n",
       "      <th>oldbalanceOrg</th>\n",
       "      <th>newbalanceOrig</th>\n",
       "      <th>oldbalanceDest</th>\n",
       "      <th>newbalanceDest</th>\n",
       "      <th>isFraud</th>\n",
       "    </tr>\n",
       "  </thead>\n",
       "  <tbody>\n",
       "    <tr>\n",
       "      <th>0</th>\n",
       "      <td>155</td>\n",
       "      <td>CASH_OUT</td>\n",
       "      <td>427818.23</td>\n",
       "      <td>198219.00</td>\n",
       "      <td>0.00</td>\n",
       "      <td>0.00</td>\n",
       "      <td>427818.23</td>\n",
       "      <td>0</td>\n",
       "    </tr>\n",
       "    <tr>\n",
       "      <th>1</th>\n",
       "      <td>283</td>\n",
       "      <td>CASH_IN</td>\n",
       "      <td>68154.77</td>\n",
       "      <td>2884459.21</td>\n",
       "      <td>2952613.98</td>\n",
       "      <td>1030035.29</td>\n",
       "      <td>961880.52</td>\n",
       "      <td>0</td>\n",
       "    </tr>\n",
       "    <tr>\n",
       "      <th>2</th>\n",
       "      <td>380</td>\n",
       "      <td>CASH_OUT</td>\n",
       "      <td>80828.54</td>\n",
       "      <td>0.00</td>\n",
       "      <td>0.00</td>\n",
       "      <td>5149991.49</td>\n",
       "      <td>5230820.04</td>\n",
       "      <td>0</td>\n",
       "    </tr>\n",
       "    <tr>\n",
       "      <th>3</th>\n",
       "      <td>380</td>\n",
       "      <td>TRANSFER</td>\n",
       "      <td>106069.89</td>\n",
       "      <td>301258.00</td>\n",
       "      <td>195188.11</td>\n",
       "      <td>263816.83</td>\n",
       "      <td>369886.72</td>\n",
       "      <td>0</td>\n",
       "    </tr>\n",
       "    <tr>\n",
       "      <th>4</th>\n",
       "      <td>394</td>\n",
       "      <td>PAYMENT</td>\n",
       "      <td>34530.86</td>\n",
       "      <td>200755.00</td>\n",
       "      <td>166224.14</td>\n",
       "      <td>0.00</td>\n",
       "      <td>0.00</td>\n",
       "      <td>0</td>\n",
       "    </tr>\n",
       "  </tbody>\n",
       "</table>\n",
       "</div>"
      ],
      "text/plain": [
       "   step      type     amount  oldbalanceOrg  newbalanceOrig  oldbalanceDest  \\\n",
       "0   155  CASH_OUT  427818.23      198219.00            0.00            0.00   \n",
       "1   283   CASH_IN   68154.77     2884459.21      2952613.98      1030035.29   \n",
       "2   380  CASH_OUT   80828.54           0.00            0.00      5149991.49   \n",
       "3   380  TRANSFER  106069.89      301258.00       195188.11       263816.83   \n",
       "4   394   PAYMENT   34530.86      200755.00       166224.14            0.00   \n",
       "\n",
       "   newbalanceDest  isFraud  \n",
       "0       427818.23        0  \n",
       "1       961880.52        0  \n",
       "2      5230820.04        0  \n",
       "3       369886.72        0  \n",
       "4            0.00        0  "
      ]
     },
     "execution_count": 164,
     "metadata": {},
     "output_type": "execute_result"
    }
   ],
   "source": [
    "df.head()"
   ]
  },
  {
   "cell_type": "code",
   "execution_count": 165,
   "metadata": {},
   "outputs": [
    {
     "data": {
      "image/png": "[encoded data removed]",
      "text/plain": [
       "<Figure size 432x288 with 1 Axes>"
      ]
     },
     "metadata": {},
     "output_type": "display_data"
    }
   ],
   "source": [
    "# Get daily value of the step (for each hour of the day) and plot by transaction\n",
    "df[\"step_24\"] = df[\"step\"]%24\n",
    "sns.lineplot(data = df, x = \"step_24\", y = \"amount\", hue = \"type\")\n",
    "plt.title(\"Transactions over 24h Period\");"
   ]
  },
  {
   "cell_type": "markdown",
   "metadata": {},
   "source": [
    "The cash out and transfer transactions where most fraudulent activity occurs, happen early on in the day between 1am and 4am"
   ]
  },
  {
   "cell_type": "code",
   "execution_count": 166,
   "metadata": {},
   "outputs": [
    {
     "data": {
      "image/png": "[encoded data removed]",
      "text/plain": [
       "<Figure size 720x360 with 2 Axes>"
      ]
     },
     "metadata": {},
     "output_type": "display_data"
    }
   ],
   "source": [
    "sns.displot(data = df, x = \"step_24\", col = \"isFraud\");"
   ]
  },
  {
   "cell_type": "markdown",
   "metadata": {},
   "source": [
    "Non-fraudulent transactions tend to vary during the day whereas the fraudulent transactions are evenly spread"
   ]
  },
  {
   "cell_type": "code",
   "execution_count": 167,
   "metadata": {},
   "outputs": [],
   "source": [
    "# Focus on the two categories where fraudulent transactions occur - cash out and transfers\n",
    "df2 = df[(df[\"type\"] == \"CASH_OUT\") | (df[\"type\"] == \"TRANSFER\")]"
   ]
  },
  {
   "cell_type": "code",
   "execution_count": 168,
   "metadata": {},
   "outputs": [
    {
     "data": {
      "text/plain": [
       "(87998, 9)"
      ]
     },
     "execution_count": 168,
     "metadata": {},
     "output_type": "execute_result"
    }
   ],
   "source": [
    "df2.shape"
   ]
  },
  {
   "cell_type": "code",
   "execution_count": 169,
   "metadata": {},
   "outputs": [
    {
     "data": {
      "text/html": [
       "<div>\n",
       "<style scoped>\n",
       "    .dataframe tbody tr th:only-of-type {\n",
       "        vertical-align: middle;\n",
       "    }\n",
       "\n",
       "    .dataframe tbody tr th {\n",
       "        vertical-align: top;\n",
       "    }\n",
       "\n",
       "    .dataframe thead th {\n",
       "        text-align: right;\n",
       "    }\n",
       "</style>\n",
       "<table border=\"1\" class=\"dataframe\">\n",
       "  <thead>\n",
       "    <tr style=\"text-align: right;\">\n",
       "      <th></th>\n",
       "      <th>TRANSFER</th>\n",
       "    </tr>\n",
       "  </thead>\n",
       "  <tbody>\n",
       "    <tr>\n",
       "      <th>0</th>\n",
       "      <td>0</td>\n",
       "    </tr>\n",
       "    <tr>\n",
       "      <th>2</th>\n",
       "      <td>0</td>\n",
       "    </tr>\n",
       "    <tr>\n",
       "      <th>3</th>\n",
       "      <td>1</td>\n",
       "    </tr>\n",
       "    <tr>\n",
       "      <th>6</th>\n",
       "      <td>0</td>\n",
       "    </tr>\n",
       "    <tr>\n",
       "      <th>12</th>\n",
       "      <td>0</td>\n",
       "    </tr>\n",
       "  </tbody>\n",
       "</table>\n",
       "</div>"
      ],
      "text/plain": [
       "    TRANSFER\n",
       "0          0\n",
       "2          0\n",
       "3          1\n",
       "6          0\n",
       "12         0"
      ]
     },
     "execution_count": 169,
     "metadata": {},
     "output_type": "execute_result"
    }
   ],
   "source": [
    "# One hot encode the type column and concat back to the original dataframe\n",
    "cats = pd.get_dummies(df2[\"type\"], drop_first = True)\n",
    "cats.head()"
   ]
  },
  {
   "cell_type": "code",
   "execution_count": 170,
   "metadata": {},
   "outputs": [],
   "source": [
    "df2 = pd.concat([df2,cats],axis = 1)\n",
    "#df2.drop(columns = [\"type\"],axis = 2,inplace = True)"
   ]
  },
  {
   "cell_type": "code",
   "execution_count": 171,
   "metadata": {},
   "outputs": [
    {
     "data": {
      "text/plain": [
       "0    185000\n",
       "1      7500\n",
       "Name: isFraud, dtype: int64"
      ]
     },
     "execution_count": 171,
     "metadata": {},
     "output_type": "execute_result"
    }
   ],
   "source": [
    "# Recheck the balance between fraudulent and non-fraudulent transactions\n",
    "df[\"isFraud\"].value_counts()"
   ]
  },
  {
   "cell_type": "markdown",
   "metadata": {},
   "source": [
    "# Feature Engineering"
   ]
  },
  {
   "cell_type": "code",
   "execution_count": 172,
   "metadata": {},
   "outputs": [
    {
     "data": {
      "text/plain": [
       "Index(['step', 'type', 'amount', 'oldbalanceOrg', 'newbalanceOrig',\n",
       "       'oldbalanceDest', 'newbalanceDest', 'isFraud', 'step_24', 'TRANSFER'],\n",
       "      dtype='object')"
      ]
     },
     "execution_count": 172,
     "metadata": {},
     "output_type": "execute_result"
    }
   ],
   "source": [
    "df2.columns"
   ]
  },
  {
   "cell_type": "code",
   "execution_count": 173,
   "metadata": {},
   "outputs": [],
   "source": [
    "# Create new features\n",
    "df2[\"ErrorOrig\"] = df2[\"newbalanceOrig\"] + df2[\"amount\"] - df2[\"oldbalanceOrg\"]\n",
    "df2[\"ErrorDest\"] = df2[\"oldbalanceDest\"] + df2[\"amount\"] - df2[\"newbalanceDest\"]"
   ]
  },
  {
   "cell_type": "code",
   "execution_count": 174,
   "metadata": {},
   "outputs": [
    {
     "data": {
      "text/html": [
       "<div>\n",
       "<style scoped>\n",
       "    .dataframe tbody tr th:only-of-type {\n",
       "        vertical-align: middle;\n",
       "    }\n",
       "\n",
       "    .dataframe tbody tr th {\n",
       "        vertical-align: top;\n",
       "    }\n",
       "\n",
       "    .dataframe thead th {\n",
       "        text-align: right;\n",
       "    }\n",
       "</style>\n",
       "<table border=\"1\" class=\"dataframe\">\n",
       "  <thead>\n",
       "    <tr style=\"text-align: right;\">\n",
       "      <th></th>\n",
       "      <th>step</th>\n",
       "      <th>type</th>\n",
       "      <th>amount</th>\n",
       "      <th>oldbalanceOrg</th>\n",
       "      <th>newbalanceOrig</th>\n",
       "      <th>oldbalanceDest</th>\n",
       "      <th>newbalanceDest</th>\n",
       "      <th>isFraud</th>\n",
       "      <th>step_24</th>\n",
       "      <th>TRANSFER</th>\n",
       "      <th>ErrorOrig</th>\n",
       "      <th>ErrorDest</th>\n",
       "    </tr>\n",
       "  </thead>\n",
       "  <tbody>\n",
       "    <tr>\n",
       "      <th>0</th>\n",
       "      <td>155</td>\n",
       "      <td>CASH_OUT</td>\n",
       "      <td>427818.23</td>\n",
       "      <td>198219.0</td>\n",
       "      <td>0.00</td>\n",
       "      <td>0.00</td>\n",
       "      <td>427818.23</td>\n",
       "      <td>0</td>\n",
       "      <td>11</td>\n",
       "      <td>0</td>\n",
       "      <td>229599.23</td>\n",
       "      <td>0.000000e+00</td>\n",
       "    </tr>\n",
       "    <tr>\n",
       "      <th>2</th>\n",
       "      <td>380</td>\n",
       "      <td>CASH_OUT</td>\n",
       "      <td>80828.54</td>\n",
       "      <td>0.0</td>\n",
       "      <td>0.00</td>\n",
       "      <td>5149991.49</td>\n",
       "      <td>5230820.04</td>\n",
       "      <td>0</td>\n",
       "      <td>20</td>\n",
       "      <td>0</td>\n",
       "      <td>80828.54</td>\n",
       "      <td>-1.000000e-02</td>\n",
       "    </tr>\n",
       "    <tr>\n",
       "      <th>3</th>\n",
       "      <td>380</td>\n",
       "      <td>TRANSFER</td>\n",
       "      <td>106069.89</td>\n",
       "      <td>301258.0</td>\n",
       "      <td>195188.11</td>\n",
       "      <td>263816.83</td>\n",
       "      <td>369886.72</td>\n",
       "      <td>0</td>\n",
       "      <td>20</td>\n",
       "      <td>1</td>\n",
       "      <td>0.00</td>\n",
       "      <td>5.820766e-11</td>\n",
       "    </tr>\n",
       "    <tr>\n",
       "      <th>6</th>\n",
       "      <td>306</td>\n",
       "      <td>CASH_OUT</td>\n",
       "      <td>402832.90</td>\n",
       "      <td>11665.0</td>\n",
       "      <td>0.00</td>\n",
       "      <td>28550.98</td>\n",
       "      <td>431383.87</td>\n",
       "      <td>0</td>\n",
       "      <td>18</td>\n",
       "      <td>0</td>\n",
       "      <td>391167.90</td>\n",
       "      <td>1.000000e-02</td>\n",
       "    </tr>\n",
       "    <tr>\n",
       "      <th>12</th>\n",
       "      <td>382</td>\n",
       "      <td>CASH_OUT</td>\n",
       "      <td>34643.49</td>\n",
       "      <td>0.0</td>\n",
       "      <td>0.00</td>\n",
       "      <td>346081.41</td>\n",
       "      <td>380724.90</td>\n",
       "      <td>0</td>\n",
       "      <td>22</td>\n",
       "      <td>0</td>\n",
       "      <td>34643.49</td>\n",
       "      <td>-5.820766e-11</td>\n",
       "    </tr>\n",
       "  </tbody>\n",
       "</table>\n",
       "</div>"
      ],
      "text/plain": [
       "    step      type     amount  oldbalanceOrg  newbalanceOrig  oldbalanceDest  \\\n",
       "0    155  CASH_OUT  427818.23       198219.0            0.00            0.00   \n",
       "2    380  CASH_OUT   80828.54            0.0            0.00      5149991.49   \n",
       "3    380  TRANSFER  106069.89       301258.0       195188.11       263816.83   \n",
       "6    306  CASH_OUT  402832.90        11665.0            0.00        28550.98   \n",
       "12   382  CASH_OUT   34643.49            0.0            0.00       346081.41   \n",
       "\n",
       "    newbalanceDest  isFraud  step_24  TRANSFER  ErrorOrig     ErrorDest  \n",
       "0        427818.23        0       11         0  229599.23  0.000000e+00  \n",
       "2       5230820.04        0       20         0   80828.54 -1.000000e-02  \n",
       "3        369886.72        0       20         1       0.00  5.820766e-11  \n",
       "6        431383.87        0       18         0  391167.90  1.000000e-02  \n",
       "12       380724.90        0       22         0   34643.49 -5.820766e-11  "
      ]
     },
     "execution_count": 174,
     "metadata": {},
     "output_type": "execute_result"
    }
   ],
   "source": [
    "df2.head()"
   ]
  },
  {
   "cell_type": "code",
   "execution_count": 179,
   "metadata": {},
   "outputs": [
    {
     "data": {
      "image/png": "[encoded data removed]",
      "text/plain": [
       "<Figure size 793.425x360 with 1 Axes>"
      ]
     },
     "metadata": {},
     "output_type": "display_data"
    }
   ],
   "source": [
    "sns.catplot(data = df2, x = \"isFraud\", y = \"ErrorOrig\", hue = \"TRANSFER\", aspect = 2, estimator = sum)\n",
    "plt.title(\"Origin Account Errors for Fraudulent and Non-fraudulent Transfer Transactions\");"
   ]
  },
  {
   "cell_type": "markdown",
   "metadata": {},
   "source": [
    "The graph shows that there is no clear patterns, there are discrepancies in the balances on the origin account for both fraudulent and non-fraudulent accounts"
   ]
  },
  {
   "cell_type": "code",
   "execution_count": 180,
   "metadata": {},
   "outputs": [
    {
     "data": {
      "image/png": "[encoded data removed]",
      "text/plain": [
       "<Figure size 793.425x360 with 1 Axes>"
      ]
     },
     "metadata": {},
     "output_type": "display_data"
    }
   ],
   "source": [
    "sns.catplot(data = df2, x = \"isFraud\", y = \"ErrorDest\", hue = \"TRANSFER\", aspect = 2, estimator = sum)\n",
    "plt.title(\"Destination Account Errors for Fraudulent and Non-fraudulent Transfer Transactions\");"
   ]
  },
  {
   "cell_type": "markdown",
   "metadata": {},
   "source": [
    "There is a significant different in destination account errors between fraudulent and non-fraudulent transfer transactions. "
   ]
  },
  {
   "cell_type": "markdown",
   "metadata": {},
   "source": [
    "# Build Classification Models"
   ]
  },
  {
   "cell_type": "code",
   "execution_count": 185,
   "metadata": {},
   "outputs": [],
   "source": [
    "X = df2.drop([\"isFraud\", \"type\"],axis = 1)\n",
    "y = df2[\"isFraud\"]"
   ]
  },
  {
   "cell_type": "code",
   "execution_count": 187,
   "metadata": {},
   "outputs": [],
   "source": [
    "X_train, X_test, y_train, y_test = train_test_split(X,y, test_size = 0.2, random_state = 42)"
   ]
  },
  {
   "cell_type": "code",
   "execution_count": 188,
   "metadata": {},
   "outputs": [
    {
     "name": "stdout",
     "output_type": "stream",
     "text": [
      "(70398, 10) (17600, 10) (70398,) (17600,)\n"
     ]
    }
   ],
   "source": [
    "print(X_train.shape, X_test.shape, y_train.shape, y_test.shape)"
   ]
  },
  {
   "cell_type": "code",
   "execution_count": 198,
   "metadata": {},
   "outputs": [
    {
     "name": "stdout",
     "output_type": "stream",
     "text": [
      "0.9640909090909091\n",
      "0.8308880308880309\n",
      "0.722632639355272\n"
     ]
    }
   ],
   "source": [
    "# Logistic Regression Model\n",
    "lr = LogisticRegression()\n",
    "lr.fit(X_train, y_train)\n",
    "y_pred1 = lr.predict(X_test)\n",
    "print(accuracy_score(y_test, y_pred1))\n",
    "print(precision_score(y_test, y_pred1))\n",
    "print(recall_score(y_test, y_pred1))"
   ]
  },
  {
   "cell_type": "markdown",
   "metadata": {},
   "source": [
    "* Accuracy is not the  best metric due to skew\n",
    "* Precision - of the positive fraudulent identifications around 80 percent were correct\n",
    "* Recall - of all the fraudulent transactions, around 72 percent were correct"
   ]
  },
  {
   "cell_type": "code",
   "execution_count": 199,
   "metadata": {},
   "outputs": [
    {
     "name": "stdout",
     "output_type": "stream",
     "text": [
      "0.9425568181818181\n",
      "0.8545994065281899\n",
      "0.38683680322364\n"
     ]
    }
   ],
   "source": [
    "# Naive Bayes using conditional probabilities\n",
    "nb = GaussianNB()\n",
    "nb.fit(X_train, y_train)\n",
    "y_pred2 = nb.predict(X_test)\n",
    "print(accuracy_score(y_test, y_pred2))\n",
    "print(precision_score(y_test, y_pred2))\n",
    "print(recall_score(y_test, y_pred2))"
   ]
  },
  {
   "cell_type": "markdown",
   "metadata": {},
   "source": [
    "This model does very poorly at finding the fraudulent transactions"
   ]
  },
  {
   "cell_type": "code",
   "execution_count": 200,
   "metadata": {},
   "outputs": [
    {
     "name": "stdout",
     "output_type": "stream",
     "text": [
      "0.9641477272727272\n",
      "0.9809417040358744\n",
      "0.587642713230356\n"
     ]
    }
   ],
   "source": [
    "# Support vector Classifier\n",
    "svm = SVC()\n",
    "svm.fit(X_train, y_train)\n",
    "y_pred3 = svm.predict(X_test)\n",
    "print(accuracy_score(y_test, y_pred3))\n",
    "print(precision_score(y_test, y_pred3))\n",
    "print(recall_score(y_test, y_pred3))"
   ]
  },
  {
   "cell_type": "markdown",
   "metadata": {},
   "source": [
    "The recall is still not very high"
   ]
  },
  {
   "cell_type": "code",
   "execution_count": 203,
   "metadata": {},
   "outputs": [
    {
     "name": "stdout",
     "output_type": "stream",
     "text": [
      "0.9996022727272728\n",
      "0.9986541049798116\n",
      "0.9966420416386836\n"
     ]
    }
   ],
   "source": [
    "# Random Forest Model\n",
    "rf = RandomForestClassifier()\n",
    "rf.fit(X_train, y_train)\n",
    "y_pred4 = rf.predict(X_test)\n",
    "print(accuracy_score(y_test, y_pred4))\n",
    "print(precision_score(y_test, y_pred4))\n",
    "print(recall_score(y_test, y_pred4))"
   ]
  },
  {
   "cell_type": "markdown",
   "metadata": {},
   "source": [
    "This gives the best results of all the models"
   ]
  },
  {
   "cell_type": "code",
   "execution_count": 226,
   "metadata": {},
   "outputs": [
    {
     "data": {
      "image/png": "[encoded data removed]",
      "text/plain": [
       "<Figure size 432x288 with 1 Axes>"
      ]
     },
     "metadata": {},
     "output_type": "display_data"
    }
   ],
   "source": [
    "fpr1, tpr1, threshold1 = roc_curve(y_test, y_pred1)\n",
    "fpr2, tpr2, threshold2 = roc_curve(y_test, y_pred2)\n",
    "fpr3, tpr3, threshold3 = roc_curve(y_test, y_pred3)\n",
    "fpr4, tpr4, threshold4 = roc_curve(y_test, y_pred4)\n",
    "\n",
    "plt.plot(fpr1, tpr1, label = \"LR\")\n",
    "plt.plot(fpr2, tpr2, label = \"NB\")\n",
    "plt.plot(fpr3, tpr3, label = \"SVM\")\n",
    "plt.plot(fpr4, tpr4, label = \"RF\")\n",
    "\n",
    "plt.legend()\n",
    "plt.title(\"ROC Curves for Each Model\")\n",
    "plt.xlabel(\"False Positive Rate\")\n",
    "plt.ylabel(\"True Positive Rate\");"
   ]
  },
  {
   "cell_type": "code",
   "execution_count": null,
   "metadata": {},
   "outputs": [],
   "source": [
    "roc_auc1 = auc(fpr1, tpr1)\n",
    "roc_auc2 = auc(fpr2, tpr2)\n",
    "roc_auc3 = auc(fpr3, tpr3)\n",
    "roc_auc4 = auc(fpr4, tpr4)"
   ]
  },
  {
   "cell_type": "code",
   "execution_count": 224,
   "metadata": {},
   "outputs": [
    {
     "name": "stdout",
     "output_type": "stream",
     "text": [
      "0.8545197210804043 0.7932937667697307 0.7932937667697307 0.9982589514257598\n"
     ]
    }
   ],
   "source": [
    "print(roc_auc1, roc_auc3, roc_auc3, roc_auc4)"
   ]
  },
  {
   "cell_type": "markdown",
   "metadata": {},
   "source": [
    "The Random Forest Classifier Model is the preferred model for this data"
   ]
  }
 ],
 "metadata": {
  "kernelspec": {
   "display_name": "Python 3",
   "language": "python",
   "name": "python3"
  },
  "language_info": {
   "codemirror_mode": {
    "name": "ipython",
    "version": 3
   },
   "file_extension": ".py",
   "mimetype": "text/x-python",
   "name": "python",
   "nbconvert_exporter": "python",
   "pygments_lexer": "ipython3",
   "version": "3.8.5"
  }
 },
 "nbformat": 4,
 "nbformat_minor": 4
}
